{
 "cells": [
  {
   "cell_type": "markdown",
   "metadata": {},
   "source": [
    "# Automated ML\n",
    "\n",
    "TODO: Import Dependencies. In the cell below, import all the dependencies that you will need to complete the project."
   ]
  },
  {
   "cell_type": "code",
   "execution_count": 1,
   "metadata": {
    "gather": {
     "logged": 1601798345739
    },
    "jupyter": {
     "outputs_hidden": false,
     "source_hidden": false
    },
    "nteract": {
     "transient": {
      "deleting": false
     }
    }
   },
   "outputs": [],
   "source": [
    "import sklearn\n",
    "\n",
    "from azureml.core import Dataset, Environment, Experiment, Workspace\n",
    "from azureml.core.conda_dependencies import CondaDependencies\n",
    "from azureml.core.model import InferenceConfig\n",
    "from azureml.core.webservice import AciWebservice\n",
    "from azureml.train.automl import AutoMLConfig\n",
    "from azureml.widgets import RunDetails"
   ]
  },
  {
   "cell_type": "markdown",
   "metadata": {},
   "source": [
    "## Dataset\n",
    "\n",
    "### Overview\n",
    "TODO: In this markdown cell, give an overview of the dataset you are using. Also mention the task you will be performing.\n",
    "\n",
    "\n",
    "TODO: Get data. In the cell below, write code to access the data you will be using in this project. Remember that the dataset needs to be external."
   ]
  },
  {
   "cell_type": "code",
   "execution_count": 3,
   "metadata": {
    "gather": {
     "logged": 1601798346604
    },
    "jupyter": {
     "outputs_hidden": false,
     "source_hidden": false
    },
    "nteract": {
     "transient": {
      "deleting": false
     }
    }
   },
   "outputs": [],
   "source": [
    "ws = Workspace.from_config()\n",
    "\n",
    "# choose a name for experiment\n",
    "experiment_name = 'automl-experiment'\n",
    "\n",
    "experiment=Experiment(ws, experiment_name)"
   ]
  },
  {
   "cell_type": "code",
   "execution_count": 4,
   "metadata": {
    "gather": {
     "logged": 1601798354730
    },
    "jupyter": {
     "outputs_hidden": false,
     "source_hidden": false
    },
    "nteract": {
     "transient": {
      "deleting": false
     }
    }
   },
   "outputs": [
    {
     "data": {
      "text/html": [
       "<div>\n",
       "<style scoped>\n",
       "    .dataframe tbody tr th:only-of-type {\n",
       "        vertical-align: middle;\n",
       "    }\n",
       "\n",
       "    .dataframe tbody tr th {\n",
       "        vertical-align: top;\n",
       "    }\n",
       "\n",
       "    .dataframe thead th {\n",
       "        text-align: right;\n",
       "    }\n",
       "</style>\n",
       "<table border=\"1\" class=\"dataframe\">\n",
       "  <thead>\n",
       "    <tr style=\"text-align: right;\">\n",
       "      <th></th>\n",
       "      <th>age</th>\n",
       "      <th>anaemia</th>\n",
       "      <th>creatinine_phosphokinase</th>\n",
       "      <th>diabetes</th>\n",
       "      <th>ejection_fraction</th>\n",
       "      <th>high_blood_pressure</th>\n",
       "      <th>platelets</th>\n",
       "      <th>serum_creatinine</th>\n",
       "      <th>serum_sodium</th>\n",
       "      <th>sex</th>\n",
       "      <th>smoking</th>\n",
       "      <th>time</th>\n",
       "      <th>DEATH_EVENT</th>\n",
       "    </tr>\n",
       "  </thead>\n",
       "  <tbody>\n",
       "    <tr>\n",
       "      <th>0</th>\n",
       "      <td>75.0</td>\n",
       "      <td>0</td>\n",
       "      <td>582</td>\n",
       "      <td>0</td>\n",
       "      <td>20</td>\n",
       "      <td>1</td>\n",
       "      <td>265000.00</td>\n",
       "      <td>1.9</td>\n",
       "      <td>130</td>\n",
       "      <td>1</td>\n",
       "      <td>0</td>\n",
       "      <td>4</td>\n",
       "      <td>1</td>\n",
       "    </tr>\n",
       "    <tr>\n",
       "      <th>1</th>\n",
       "      <td>55.0</td>\n",
       "      <td>0</td>\n",
       "      <td>7861</td>\n",
       "      <td>0</td>\n",
       "      <td>38</td>\n",
       "      <td>0</td>\n",
       "      <td>263358.03</td>\n",
       "      <td>1.1</td>\n",
       "      <td>136</td>\n",
       "      <td>1</td>\n",
       "      <td>0</td>\n",
       "      <td>6</td>\n",
       "      <td>1</td>\n",
       "    </tr>\n",
       "    <tr>\n",
       "      <th>2</th>\n",
       "      <td>65.0</td>\n",
       "      <td>0</td>\n",
       "      <td>146</td>\n",
       "      <td>0</td>\n",
       "      <td>20</td>\n",
       "      <td>0</td>\n",
       "      <td>162000.00</td>\n",
       "      <td>1.3</td>\n",
       "      <td>129</td>\n",
       "      <td>1</td>\n",
       "      <td>1</td>\n",
       "      <td>7</td>\n",
       "      <td>1</td>\n",
       "    </tr>\n",
       "  </tbody>\n",
       "</table>\n",
       "</div>"
      ],
      "text/plain": [
       "    age  anaemia  creatinine_phosphokinase  diabetes  ejection_fraction  \\\n",
       "0  75.0        0                       582         0                 20   \n",
       "1  55.0        0                      7861         0                 38   \n",
       "2  65.0        0                       146         0                 20   \n",
       "\n",
       "   high_blood_pressure  platelets  serum_creatinine  serum_sodium  sex  \\\n",
       "0                    1  265000.00               1.9           130    1   \n",
       "1                    0  263358.03               1.1           136    1   \n",
       "2                    0  162000.00               1.3           129    1   \n",
       "\n",
       "   smoking  time  DEATH_EVENT  \n",
       "0        0     4            1  \n",
       "1        0     6            1  \n",
       "2        1     7            1  "
      ]
     },
     "execution_count": 4,
     "metadata": {},
     "output_type": "execute_result"
    }
   ],
   "source": [
    "# create a TabularDataset from a dataset\n",
    "\n",
    "dataset = Dataset.get_by_name(ws, name='heart_failure')\n",
    "heart_failure = dataset.to_pandas_dataframe()\n",
    "\n",
    "# preview the first 3 rows of the dataset\n",
    "heart_failure.head(3)"
   ]
  },
  {
   "cell_type": "markdown",
   "metadata": {},
   "source": [
    "## AutoML Configuration\n",
    "\n",
    "TODO: Explain why you chose the automl settings and cofiguration you used below."
   ]
  },
  {
   "cell_type": "code",
   "execution_count": 5,
   "metadata": {
    "gather": {
     "logged": 1601798354786
    },
    "jupyter": {
     "outputs_hidden": false,
     "source_hidden": false
    },
    "nteract": {
     "transient": {
      "deleting": false
     }
    }
   },
   "outputs": [],
   "source": [
    "automl_settings = {\n",
    "    \"task\": 'classification',\n",
    "    \"iterations\": 30,\n",
    "    \"experiment_timeout_minutes\": 15,\n",
    "    \"primary_metric\": 'accuracy',\n",
    "    \"training_data\": dataset,\n",
    "    \"label_column_name\": 'DEATH_EVENT',\n",
    "    \"n_cross_validations\": 3,\n",
    "    \"max_concurrent_iterations\": 8,\n",
    "    \"max_cores_per_iteration\": -1\n",
    "}\n",
    "\n",
    "# TODO: Put your automl config here\n",
    "automl_config = AutoMLConfig(**automl_settings)"
   ]
  },
  {
   "cell_type": "markdown",
   "metadata": {},
   "source": [
    "## Run Details\n",
    "\n",
    "OPTIONAL: Write about the different models trained and their performance. Why do you think some models did better than others?\n",
    "\n",
    "TODO: In the cell below, use the `RunDetails` widget to show the different experiments."
   ]
  },
  {
   "cell_type": "code",
   "execution_count": 6,
   "metadata": {
    "gather": {
     "logged": 1601799210421
    },
    "jupyter": {
     "outputs_hidden": false,
     "source_hidden": false
    },
    "nteract": {
     "transient": {
      "deleting": false
     }
    }
   },
   "outputs": [
    {
     "name": "stderr",
     "output_type": "stream",
     "text": [
      "WARNING:root:Running on local machine. Note that local runs always run synchronously even if you use the parameter 'show_output=False'\n",
      "WARNING:urllib3.connectionpool:Retrying (Retry(total=2, connect=None, read=None, redirect=None, status=None)) after connection broken by 'ProtocolError('Connection aborted.', ConnectionResetError(10054, 'An existing connection was forcibly closed by the remote host', None, 10054, None))': /azureml/ExperimentRun/dcid.AutoML_9290b020-d984-44ed-b8ff-4d934b6b7c26_1/outputs/conda_env_v_1_0_0.yml?sv=2019-02-02&sr=b&sig=HgJqseQEXHZ7YiZbI3VkQvNX%2BtkBSuag9iw1WPvWMBQ%3D&st=2021-01-03T11%3A10%3A32Z&se=2021-01-04T11%3A20%3A32Z&sp=rcw&comp=block&blockid=TURBd01EQXdNREF3TURBd01EQXdNREF3TURBd01EQXdNREF3TURBd01EQSUzRA%3D%3D&timeout=30\n"
     ]
    },
    {
     "data": {
      "application/vnd.jupyter.widget-view+json": {
       "model_id": "bbf39bca6a244c34a1f76dd01c5bf7e1",
       "version_major": 2,
       "version_minor": 0
      },
      "text/plain": [
       "_AutoMLWidget(widget_settings={'childWidgetDisplay': 'popup', 'send_telemetry': False, 'log_level': 'INFO', 's…"
      ]
     },
     "metadata": {},
     "output_type": "display_data"
    },
    {
     "data": {
      "application/aml.mini.widget.v1": "{\"status\": \"Completed\", \"workbench_run_details_uri\": \"https://ml.azure.com/experiments/automl-experiment/runs/AutoML_9290b020-d984-44ed-b8ff-4d934b6b7c26?wsid=/subscriptions/77aa4fe1-b94d-42b7-8b39-c4c15eb26acb/resourcegroups/res-classic-2/workspaces/udacity-ml\", \"run_id\": \"AutoML_9290b020-d984-44ed-b8ff-4d934b6b7c26\", \"run_properties\": {\"run_id\": \"AutoML_9290b020-d984-44ed-b8ff-4d934b6b7c26\", \"created_utc\": \"2021-01-03T11:18:48.494461Z\", \"properties\": {\"num_iterations\": \"30\", \"training_type\": \"TrainFull\", \"acquisition_function\": \"EI\", \"primary_metric\": \"accuracy\", \"train_split\": \"0\", \"acquisition_parameter\": \"0\", \"num_cross_validation\": \"3\", \"target\": \"local\", \"AMLSettingsJsonString\": \"{\\\"path\\\":null,\\\"name\\\":\\\"automl-experiment\\\",\\\"subscription_id\\\":\\\"77aa4fe1-b94d-42b7-8b39-c4c15eb26acb\\\",\\\"resource_group\\\":\\\"res-classic-2\\\",\\\"workspace_name\\\":\\\"udacity-ml\\\",\\\"region\\\":\\\"eastasia\\\",\\\"compute_target\\\":\\\"local\\\",\\\"spark_service\\\":null,\\\"azure_service\\\":\\\"local\\\",\\\"many_models\\\":false,\\\"pipeline_fetch_max_batch_size\\\":1,\\\"iterations\\\":30,\\\"primary_metric\\\":\\\"accuracy\\\",\\\"task_type\\\":\\\"classification\\\",\\\"data_script\\\":null,\\\"validation_size\\\":0.0,\\\"n_cross_validations\\\":3,\\\"y_min\\\":null,\\\"y_max\\\":null,\\\"num_classes\\\":2,\\\"featurization\\\":\\\"auto\\\",\\\"_ignore_package_version_incompatibilities\\\":false,\\\"is_timeseries\\\":false,\\\"max_cores_per_iteration\\\":-1,\\\"max_concurrent_iterations\\\":8,\\\"iteration_timeout_minutes\\\":null,\\\"mem_in_mb\\\":null,\\\"enforce_time_on_windows\\\":true,\\\"experiment_timeout_minutes\\\":15,\\\"experiment_exit_score\\\":null,\\\"whitelist_models\\\":null,\\\"blacklist_algos\\\":[\\\"TensorFlowLinearClassifier\\\",\\\"TensorFlowDNN\\\"],\\\"supported_models\\\":[\\\"XGBoostClassifier\\\",\\\"SVM\\\",\\\"AveragedPerceptronClassifier\\\",\\\"MultinomialNaiveBayes\\\",\\\"TensorFlowLinearClassifier\\\",\\\"KNN\\\",\\\"LogisticRegression\\\",\\\"GradientBoosting\\\",\\\"LightGBM\\\",\\\"LinearSVM\\\",\\\"DecisionTree\\\",\\\"SGD\\\",\\\"RandomForest\\\",\\\"ExtremeRandomTrees\\\",\\\"TensorFlowDNN\\\",\\\"BernoulliNaiveBayes\\\"],\\\"auto_blacklist\\\":true,\\\"blacklist_samples_reached\\\":false,\\\"exclude_nan_labels\\\":true,\\\"verbosity\\\":20,\\\"_debug_log\\\":\\\"automl.log\\\",\\\"show_warnings\\\":false,\\\"model_explainability\\\":true,\\\"service_url\\\":null,\\\"sdk_url\\\":null,\\\"sdk_packages\\\":null,\\\"enable_onnx_compatible_models\\\":false,\\\"enable_split_onnx_featurizer_estimator_models\\\":false,\\\"vm_type\\\":null,\\\"telemetry_verbosity\\\":20,\\\"send_telemetry\\\":true,\\\"enable_dnn\\\":false,\\\"scenario\\\":\\\"SDK-1.13.0\\\",\\\"environment_label\\\":null,\\\"force_text_dnn\\\":false,\\\"enable_feature_sweeping\\\":true,\\\"enable_early_stopping\\\":false,\\\"early_stopping_n_iters\\\":10,\\\"metrics\\\":null,\\\"enable_ensembling\\\":true,\\\"enable_stack_ensembling\\\":true,\\\"ensemble_iterations\\\":15,\\\"enable_tf\\\":false,\\\"enable_subsampling\\\":false,\\\"subsample_seed\\\":null,\\\"enable_nimbusml\\\":false,\\\"enable_streaming\\\":false,\\\"force_streaming\\\":false,\\\"track_child_runs\\\":true,\\\"allowed_private_models\\\":[],\\\"label_column_name\\\":\\\"DEATH_EVENT\\\",\\\"weight_column_name\\\":null,\\\"cv_split_column_names\\\":null,\\\"enable_local_managed\\\":false,\\\"_local_managed_run_id\\\":null,\\\"cost_mode\\\":1,\\\"lag_length\\\":0,\\\"metric_operation\\\":\\\"maximize\\\",\\\"preprocess\\\":true}\", \"DataPrepJsonString\": \"{\\\\\\\"training_data\\\\\\\": \\\\\\\"{\\\\\\\\\\\\\\\"blocks\\\\\\\\\\\\\\\": [{\\\\\\\\\\\\\\\"id\\\\\\\\\\\\\\\": \\\\\\\\\\\\\\\"55b3df56-48c3-438c-9975-95e8c7d84835\\\\\\\\\\\\\\\", \\\\\\\\\\\\\\\"type\\\\\\\\\\\\\\\": \\\\\\\\\\\\\\\"Microsoft.DPrep.GetDatastoreFilesBlock\\\\\\\\\\\\\\\", \\\\\\\\\\\\\\\"arguments\\\\\\\\\\\\\\\": {\\\\\\\\\\\\\\\"datastores\\\\\\\\\\\\\\\": [{\\\\\\\\\\\\\\\"datastoreName\\\\\\\\\\\\\\\": \\\\\\\\\\\\\\\"workspaceblobstore\\\\\\\\\\\\\\\", \\\\\\\\\\\\\\\"path\\\\\\\\\\\\\\\": \\\\\\\\\\\\\\\"UI/01-02-2021_103901_UTC/heart_failure_clinical_records_dataset.csv\\\\\\\\\\\\\\\", \\\\\\\\\\\\\\\"resourceGroup\\\\\\\\\\\\\\\": \\\\\\\\\\\\\\\"res-classic-2\\\\\\\\\\\\\\\", \\\\\\\\\\\\\\\"subscription\\\\\\\\\\\\\\\": \\\\\\\\\\\\\\\"77aa4fe1-b94d-42b7-8b39-c4c15eb26acb\\\\\\\\\\\\\\\", \\\\\\\\\\\\\\\"workspaceName\\\\\\\\\\\\\\\": \\\\\\\\\\\\\\\"udacity-ml\\\\\\\\\\\\\\\"}]}, \\\\\\\\\\\\\\\"localData\\\\\\\\\\\\\\\": {}, \\\\\\\\\\\\\\\"isEnabled\\\\\\\\\\\\\\\": true, \\\\\\\\\\\\\\\"name\\\\\\\\\\\\\\\": null, \\\\\\\\\\\\\\\"annotation\\\\\\\\\\\\\\\": null}, {\\\\\\\\\\\\\\\"id\\\\\\\\\\\\\\\": \\\\\\\\\\\\\\\"4a171630-8604-4ce9-afc7-365ed48cc7df\\\\\\\\\\\\\\\", \\\\\\\\\\\\\\\"type\\\\\\\\\\\\\\\": \\\\\\\\\\\\\\\"Microsoft.DPrep.ParseDelimitedBlock\\\\\\\\\\\\\\\", \\\\\\\\\\\\\\\"arguments\\\\\\\\\\\\\\\": {\\\\\\\\\\\\\\\"columnHeadersMode\\\\\\\\\\\\\\\": 1, \\\\\\\\\\\\\\\"fileEncoding\\\\\\\\\\\\\\\": 0, \\\\\\\\\\\\\\\"handleQuotedLineBreaks\\\\\\\\\\\\\\\": false, \\\\\\\\\\\\\\\"preview\\\\\\\\\\\\\\\": false, \\\\\\\\\\\\\\\"separator\\\\\\\\\\\\\\\": \\\\\\\\\\\\\\\",\\\\\\\\\\\\\\\", \\\\\\\\\\\\\\\"skipRows\\\\\\\\\\\\\\\": 0, \\\\\\\\\\\\\\\"skipRowsMode\\\\\\\\\\\\\\\": 0}, \\\\\\\\\\\\\\\"localData\\\\\\\\\\\\\\\": {}, \\\\\\\\\\\\\\\"isEnabled\\\\\\\\\\\\\\\": true, \\\\\\\\\\\\\\\"name\\\\\\\\\\\\\\\": null, \\\\\\\\\\\\\\\"annotation\\\\\\\\\\\\\\\": null}, {\\\\\\\\\\\\\\\"id\\\\\\\\\\\\\\\": \\\\\\\\\\\\\\\"6c8d1d22-9fd5-4814-8b31-3613bc10ea09\\\\\\\\\\\\\\\", \\\\\\\\\\\\\\\"type\\\\\\\\\\\\\\\": \\\\\\\\\\\\\\\"Microsoft.DPrep.DropColumnsBlock\\\\\\\\\\\\\\\", \\\\\\\\\\\\\\\"arguments\\\\\\\\\\\\\\\": {\\\\\\\\\\\\\\\"columns\\\\\\\\\\\\\\\": {\\\\\\\\\\\\\\\"type\\\\\\\\\\\\\\\": 0, \\\\\\\\\\\\\\\"details\\\\\\\\\\\\\\\": {\\\\\\\\\\\\\\\"selectedColumns\\\\\\\\\\\\\\\": [\\\\\\\\\\\\\\\"Path\\\\\\\\\\\\\\\"]}}}, \\\\\\\\\\\\\\\"localData\\\\\\\\\\\\\\\": {}, \\\\\\\\\\\\\\\"isEnabled\\\\\\\\\\\\\\\": true, \\\\\\\\\\\\\\\"name\\\\\\\\\\\\\\\": null, \\\\\\\\\\\\\\\"annotation\\\\\\\\\\\\\\\": null}, {\\\\\\\\\\\\\\\"id\\\\\\\\\\\\\\\": \\\\\\\\\\\\\\\"16a198c5-2cc4-4803-9b71-c82b990d1276\\\\\\\\\\\\\\\", \\\\\\\\\\\\\\\"type\\\\\\\\\\\\\\\": \\\\\\\\\\\\\\\"Microsoft.DPrep.SetColumnTypesBlock\\\\\\\\\\\\\\\", \\\\\\\\\\\\\\\"arguments\\\\\\\\\\\\\\\": {\\\\\\\\\\\\\\\"columnConversion\\\\\\\\\\\\\\\": [{\\\\\\\\\\\\\\\"column\\\\\\\\\\\\\\\": {\\\\\\\\\\\\\\\"type\\\\\\\\\\\\\\\": 2, \\\\\\\\\\\\\\\"details\\\\\\\\\\\\\\\": {\\\\\\\\\\\\\\\"selectedColumn\\\\\\\\\\\\\\\": \\\\\\\\\\\\\\\"Path\\\\\\\\\\\\\\\"}}, \\\\\\\\\\\\\\\"typeProperty\\\\\\\\\\\\\\\": 0}, {\\\\\\\\\\\\\\\"column\\\\\\\\\\\\\\\": {\\\\\\\\\\\\\\\"type\\\\\\\\\\\\\\\": 2, \\\\\\\\\\\\\\\"details\\\\\\\\\\\\\\\": {\\\\\\\\\\\\\\\"selectedColumn\\\\\\\\\\\\\\\": \\\\\\\\\\\\\\\"age\\\\\\\\\\\\\\\"}}, \\\\\\\\\\\\\\\"typeProperty\\\\\\\\\\\\\\\": 3}, {\\\\\\\\\\\\\\\"column\\\\\\\\\\\\\\\": {\\\\\\\\\\\\\\\"type\\\\\\\\\\\\\\\": 2, \\\\\\\\\\\\\\\"details\\\\\\\\\\\\\\\": {\\\\\\\\\\\\\\\"selectedColumn\\\\\\\\\\\\\\\": \\\\\\\\\\\\\\\"anaemia\\\\\\\\\\\\\\\"}}, \\\\\\\\\\\\\\\"typeProperty\\\\\\\\\\\\\\\": 2}, {\\\\\\\\\\\\\\\"column\\\\\\\\\\\\\\\": {\\\\\\\\\\\\\\\"type\\\\\\\\\\\\\\\": 2, \\\\\\\\\\\\\\\"details\\\\\\\\\\\\\\\": {\\\\\\\\\\\\\\\"selectedColumn\\\\\\\\\\\\\\\": \\\\\\\\\\\\\\\"creatinine_phosphokinase\\\\\\\\\\\\\\\"}}, \\\\\\\\\\\\\\\"typeProperty\\\\\\\\\\\\\\\": 2}, {\\\\\\\\\\\\\\\"column\\\\\\\\\\\\\\\": {\\\\\\\\\\\\\\\"type\\\\\\\\\\\\\\\": 2, \\\\\\\\\\\\\\\"details\\\\\\\\\\\\\\\": {\\\\\\\\\\\\\\\"selectedColumn\\\\\\\\\\\\\\\": \\\\\\\\\\\\\\\"diabetes\\\\\\\\\\\\\\\"}}, \\\\\\\\\\\\\\\"typeProperty\\\\\\\\\\\\\\\": 2}, {\\\\\\\\\\\\\\\"column\\\\\\\\\\\\\\\": {\\\\\\\\\\\\\\\"type\\\\\\\\\\\\\\\": 2, \\\\\\\\\\\\\\\"details\\\\\\\\\\\\\\\": {\\\\\\\\\\\\\\\"selectedColumn\\\\\\\\\\\\\\\": \\\\\\\\\\\\\\\"ejection_fraction\\\\\\\\\\\\\\\"}}, \\\\\\\\\\\\\\\"typeProperty\\\\\\\\\\\\\\\": 2}, {\\\\\\\\\\\\\\\"column\\\\\\\\\\\\\\\": {\\\\\\\\\\\\\\\"type\\\\\\\\\\\\\\\": 2, \\\\\\\\\\\\\\\"details\\\\\\\\\\\\\\\": {\\\\\\\\\\\\\\\"selectedColumn\\\\\\\\\\\\\\\": \\\\\\\\\\\\\\\"high_blood_pressure\\\\\\\\\\\\\\\"}}, \\\\\\\\\\\\\\\"typeProperty\\\\\\\\\\\\\\\": 2}, {\\\\\\\\\\\\\\\"column\\\\\\\\\\\\\\\": {\\\\\\\\\\\\\\\"type\\\\\\\\\\\\\\\": 2, \\\\\\\\\\\\\\\"details\\\\\\\\\\\\\\\": {\\\\\\\\\\\\\\\"selectedColumn\\\\\\\\\\\\\\\": \\\\\\\\\\\\\\\"platelets\\\\\\\\\\\\\\\"}}, \\\\\\\\\\\\\\\"typeProperty\\\\\\\\\\\\\\\": 3}, {\\\\\\\\\\\\\\\"column\\\\\\\\\\\\\\\": {\\\\\\\\\\\\\\\"type\\\\\\\\\\\\\\\": 2, \\\\\\\\\\\\\\\"details\\\\\\\\\\\\\\\": {\\\\\\\\\\\\\\\"selectedColumn\\\\\\\\\\\\\\\": \\\\\\\\\\\\\\\"serum_creatinine\\\\\\\\\\\\\\\"}}, \\\\\\\\\\\\\\\"typeProperty\\\\\\\\\\\\\\\": 3}, {\\\\\\\\\\\\\\\"column\\\\\\\\\\\\\\\": {\\\\\\\\\\\\\\\"type\\\\\\\\\\\\\\\": 2, \\\\\\\\\\\\\\\"details\\\\\\\\\\\\\\\": {\\\\\\\\\\\\\\\"selectedColumn\\\\\\\\\\\\\\\": \\\\\\\\\\\\\\\"serum_sodium\\\\\\\\\\\\\\\"}}, \\\\\\\\\\\\\\\"typeProperty\\\\\\\\\\\\\\\": 2}, {\\\\\\\\\\\\\\\"column\\\\\\\\\\\\\\\": {\\\\\\\\\\\\\\\"type\\\\\\\\\\\\\\\": 2, \\\\\\\\\\\\\\\"details\\\\\\\\\\\\\\\": {\\\\\\\\\\\\\\\"selectedColumn\\\\\\\\\\\\\\\": \\\\\\\\\\\\\\\"sex\\\\\\\\\\\\\\\"}}, \\\\\\\\\\\\\\\"typeProperty\\\\\\\\\\\\\\\": 2}, {\\\\\\\\\\\\\\\"column\\\\\\\\\\\\\\\": {\\\\\\\\\\\\\\\"type\\\\\\\\\\\\\\\": 2, \\\\\\\\\\\\\\\"details\\\\\\\\\\\\\\\": {\\\\\\\\\\\\\\\"selectedColumn\\\\\\\\\\\\\\\": \\\\\\\\\\\\\\\"smoking\\\\\\\\\\\\\\\"}}, \\\\\\\\\\\\\\\"typeProperty\\\\\\\\\\\\\\\": 2}, {\\\\\\\\\\\\\\\"column\\\\\\\\\\\\\\\": {\\\\\\\\\\\\\\\"type\\\\\\\\\\\\\\\": 2, \\\\\\\\\\\\\\\"details\\\\\\\\\\\\\\\": {\\\\\\\\\\\\\\\"selectedColumn\\\\\\\\\\\\\\\": \\\\\\\\\\\\\\\"time\\\\\\\\\\\\\\\"}}, \\\\\\\\\\\\\\\"typeProperty\\\\\\\\\\\\\\\": 2}, {\\\\\\\\\\\\\\\"column\\\\\\\\\\\\\\\": {\\\\\\\\\\\\\\\"type\\\\\\\\\\\\\\\": 2, \\\\\\\\\\\\\\\"details\\\\\\\\\\\\\\\": {\\\\\\\\\\\\\\\"selectedColumn\\\\\\\\\\\\\\\": \\\\\\\\\\\\\\\"DEATH_EVENT\\\\\\\\\\\\\\\"}}, \\\\\\\\\\\\\\\"typeProperty\\\\\\\\\\\\\\\": 2}]}, \\\\\\\\\\\\\\\"localData\\\\\\\\\\\\\\\": {}, \\\\\\\\\\\\\\\"isEnabled\\\\\\\\\\\\\\\": true, \\\\\\\\\\\\\\\"name\\\\\\\\\\\\\\\": null, \\\\\\\\\\\\\\\"annotation\\\\\\\\\\\\\\\": null}], \\\\\\\\\\\\\\\"inspectors\\\\\\\\\\\\\\\": [], \\\\\\\\\\\\\\\"meta\\\\\\\\\\\\\\\": {\\\\\\\\\\\\\\\"savedDatasetId\\\\\\\\\\\\\\\": \\\\\\\\\\\\\\\"34c9e1a9-b66d-4383-8bfe-bf5fec4a95da\\\\\\\\\\\\\\\", \\\\\\\\\\\\\\\"datasetType\\\\\\\\\\\\\\\": \\\\\\\\\\\\\\\"tabular\\\\\\\\\\\\\\\", \\\\\\\\\\\\\\\"subscriptionId\\\\\\\\\\\\\\\": \\\\\\\\\\\\\\\"77aa4fe1-b94d-42b7-8b39-c4c15eb26acb\\\\\\\\\\\\\\\", \\\\\\\\\\\\\\\"workspaceId\\\\\\\\\\\\\\\": \\\\\\\\\\\\\\\"96aa4fb1-b1db-4cdc-9207-5775fcc82f8a\\\\\\\\\\\\\\\", \\\\\\\\\\\\\\\"workspaceLocation\\\\\\\\\\\\\\\": \\\\\\\\\\\\\\\"eastasia\\\\\\\\\\\\\\\"}}\\\\\\\", \\\\\\\"activities\\\\\\\": 0}\", \"EnableSubsampling\": \"False\", \"runTemplate\": \"AutoML\", \"azureml.runsource\": \"automl\", \"display_task_type\": \"classification\", \"dependencies_versions\": \"{\\\"azureml-widgets\\\": \\\"1.19.0\\\", \\\"azureml-train-restclients-hyperdrive\\\": \\\"1.19.0\\\", \\\"azureml-train-core\\\": \\\"1.19.0\\\", \\\"azureml-train-automl\\\": \\\"1.19.0\\\", \\\"azureml-train-automl-runtime\\\": \\\"1.19.0\\\", \\\"azureml-train-automl-client\\\": \\\"1.19.0\\\", \\\"azureml-telemetry\\\": \\\"1.19.0\\\", \\\"azureml-pipeline-steps\\\": \\\"1.19.0\\\", \\\"azureml-pipeline-core\\\": \\\"1.19.0\\\", \\\"azureml-model-management-sdk\\\": \\\"1.0.1b6.post1\\\", \\\"azureml-interpret\\\": \\\"1.19.0\\\", \\\"azureml-defaults\\\": \\\"1.19.0\\\", \\\"azureml-dataset-runtime\\\": \\\"1.19.0.post1\\\", \\\"azureml-dataprep\\\": \\\"2.6.1\\\", \\\"azureml-dataprep-rslex\\\": \\\"1.4.0\\\", \\\"azureml-dataprep-native\\\": \\\"26.0.0\\\", \\\"azureml-core\\\": \\\"1.19.0\\\", \\\"azureml-automl-runtime\\\": \\\"1.19.0\\\", \\\"azureml-automl-core\\\": \\\"1.19.0\\\"}\", \"_aml_system_scenario_identification\": \"Local.Parent\", \"ClientSdkVersion\": \"1.19.0\", \"ClientType\": \"SDK\", \"environment_cpu_name\": \"AzureML-AutoML\", \"environment_cpu_label\": \"prod\", \"environment_gpu_name\": \"AzureML-AutoML-GPU\", \"environment_gpu_label\": \"prod\", \"root_attribution\": \"automl\", \"attribution\": \"AutoML\", \"Orchestrator\": \"AutoML\", \"_azureml.ComputeTargetType\": \"local\", \"ProblemInfoJsonString\": \"{\\\"dataset_num_categorical\\\": 0, \\\"is_sparse\\\": false, \\\"subsampling\\\": false, \\\"dataset_classes\\\": 2, \\\"dataset_features\\\": 12, \\\"dataset_samples\\\": 299, \\\"single_frequency_class_detected\\\": false}\", \"feature_skus\": \"automatedml_sdk_guardrails\"}, \"tags\": {\"model_explain_run\": \"best_run\", \"best_score\": \"0.8594276094276094\", \"best_pipeline\": \"VotingEnsemble\", \"automl_best_child_run_id\": \"AutoML_9290b020-d984-44ed-b8ff-4d934b6b7c26_19\", \"model_explain_best_run_child_id\": \"AutoML_9290b020-d984-44ed-b8ff-4d934b6b7c26_19\"}, \"end_time_utc\": \"2021-01-03T11:37:51.70248Z\", \"status\": \"Completed\", \"log_files\": {}, \"log_groups\": [], \"run_duration\": \"0:19:03\"}, \"child_runs\": [{\"run_id\": \"AutoML_9290b020-d984-44ed-b8ff-4d934b6b7c26_0\", \"run_number\": 26, \"metric\": null, \"status\": \"Completed\", \"run_type\": null, \"training_percent\": \"100\", \"start_time\": \"2021-01-03T11:19:16.241397Z\", \"end_time\": \"2021-01-03T11:20:02.370736Z\", \"created_time\": \"2021-01-03T11:19:12.932285Z\", \"created_time_dt\": \"2021-01-03T11:19:12.932285Z\", \"duration\": \"0:00:49\", \"iteration\": \"0\", \"goal\": \"accuracy_max\", \"run_name\": \"MaxAbsScaler, LightGBM\", \"run_properties\": \"copy=True\", \"primary_metric\": 0.80252525, \"best_metric\": 0.80252525}, {\"run_id\": \"AutoML_9290b020-d984-44ed-b8ff-4d934b6b7c26_1\", \"run_number\": 27, \"metric\": null, \"status\": \"Completed\", \"run_type\": null, \"training_percent\": \"100\", \"start_time\": \"2021-01-03T11:20:06.833531Z\", \"end_time\": \"2021-01-03T11:20:48.727327Z\", \"created_time\": \"2021-01-03T11:20:04.802458Z\", \"created_time_dt\": \"2021-01-03T11:20:04.802458Z\", \"duration\": \"0:00:43\", \"iteration\": \"1\", \"goal\": \"accuracy_max\", \"run_name\": \"MaxAbsScaler, XGBoostClassifier\", \"run_properties\": \"copy=True\", \"primary_metric\": 0.81929293, \"best_metric\": 0.81929293}, {\"run_id\": \"AutoML_9290b020-d984-44ed-b8ff-4d934b6b7c26_2\", \"run_number\": 28, \"metric\": null, \"status\": \"Completed\", \"run_type\": null, \"training_percent\": \"100\", \"start_time\": \"2021-01-03T11:20:52.127617Z\", \"end_time\": \"2021-01-03T11:21:38.097127Z\", \"created_time\": \"2021-01-03T11:20:50.208836Z\", \"created_time_dt\": \"2021-01-03T11:20:50.208836Z\", \"duration\": \"0:00:47\", \"iteration\": \"2\", \"goal\": \"accuracy_max\", \"run_name\": \"MinMaxScaler, RandomForest\", \"run_properties\": \"copy=True, feature_range=(0, 1\", \"primary_metric\": 0.82252525, \"best_metric\": 0.82252525}, {\"run_id\": \"AutoML_9290b020-d984-44ed-b8ff-4d934b6b7c26_3\", \"run_number\": 29, \"metric\": null, \"status\": \"Completed\", \"run_type\": null, \"training_percent\": \"100\", \"start_time\": \"2021-01-03T11:21:42.040352Z\", \"end_time\": \"2021-01-03T11:22:20.352216Z\", \"created_time\": \"2021-01-03T11:21:40.327823Z\", \"created_time_dt\": \"2021-01-03T11:21:40.327823Z\", \"duration\": \"0:00:40\", \"iteration\": \"3\", \"goal\": \"accuracy_max\", \"run_name\": \"MinMaxScaler, RandomForest\", \"run_properties\": \"copy=True, feature_range=(0, 1\", \"primary_metric\": 0.82259259, \"best_metric\": 0.82259259}, {\"run_id\": \"AutoML_9290b020-d984-44ed-b8ff-4d934b6b7c26_4\", \"run_number\": 30, \"metric\": null, \"status\": \"Completed\", \"run_type\": null, \"training_percent\": \"100\", \"start_time\": \"2021-01-03T11:22:25.12456Z\", \"end_time\": \"2021-01-03T11:23:21.721528Z\", \"created_time\": \"2021-01-03T11:22:23.078963Z\", \"created_time_dt\": \"2021-01-03T11:22:23.078963Z\", \"duration\": \"0:00:58\", \"iteration\": \"4\", \"goal\": \"accuracy_max\", \"run_name\": \"MinMaxScaler, RandomForest\", \"run_properties\": \"copy=True, feature_range=(0, 1\", \"primary_metric\": 0.83606061, \"best_metric\": 0.83606061}, {\"run_id\": \"AutoML_9290b020-d984-44ed-b8ff-4d934b6b7c26_5\", \"run_number\": 31, \"metric\": null, \"status\": \"Completed\", \"run_type\": null, \"training_percent\": \"100\", \"start_time\": \"2021-01-03T11:23:25.651371Z\", \"end_time\": \"2021-01-03T11:24:09.223031Z\", \"created_time\": \"2021-01-03T11:23:23.941108Z\", \"created_time_dt\": \"2021-01-03T11:23:23.941108Z\", \"duration\": \"0:00:45\", \"iteration\": \"5\", \"goal\": \"accuracy_max\", \"run_name\": \"MinMaxScaler, SVM\", \"run_properties\": \"copy=True, feature_range=(0, 1\", \"primary_metric\": 0.71565657, \"best_metric\": 0.83606061}, {\"run_id\": \"AutoML_9290b020-d984-44ed-b8ff-4d934b6b7c26_6\", \"run_number\": 32, \"metric\": null, \"status\": \"Completed\", \"run_type\": null, \"training_percent\": \"100\", \"start_time\": \"2021-01-03T11:24:14.172232Z\", \"end_time\": \"2021-01-03T11:24:52.980299Z\", \"created_time\": \"2021-01-03T11:24:11.880054Z\", \"created_time_dt\": \"2021-01-03T11:24:11.880054Z\", \"duration\": \"0:00:41\", \"iteration\": \"6\", \"goal\": \"accuracy_max\", \"run_name\": \"MaxAbsScaler, GradientBoosting\", \"run_properties\": \"copy=True\", \"primary_metric\": 0.82939394, \"best_metric\": 0.83606061}, {\"run_id\": \"AutoML_9290b020-d984-44ed-b8ff-4d934b6b7c26_7\", \"run_number\": 33, \"metric\": null, \"status\": \"Completed\", \"run_type\": null, \"training_percent\": \"100\", \"start_time\": \"2021-01-03T11:24:57.627841Z\", \"end_time\": \"2021-01-03T11:25:40.307917Z\", \"created_time\": \"2021-01-03T11:24:55.753831Z\", \"created_time_dt\": \"2021-01-03T11:24:55.753831Z\", \"duration\": \"0:00:44\", \"iteration\": \"7\", \"goal\": \"accuracy_max\", \"run_name\": \"StandardScalerWrapper, RandomForest\", \"run_properties\": \"<azureml.automl.runtime.shared.model_wrappers.StandardScalerWrapper object at 0x0000027A9A817C88\", \"primary_metric\": 0.82272727, \"best_metric\": 0.83606061}, {\"run_id\": \"AutoML_9290b020-d984-44ed-b8ff-4d934b6b7c26_8\", \"run_number\": 34, \"metric\": null, \"status\": \"Completed\", \"run_type\": null, \"training_percent\": \"100\", \"start_time\": \"2021-01-03T11:25:44.999416Z\", \"end_time\": \"2021-01-03T11:26:36.106177Z\", \"created_time\": \"2021-01-03T11:25:42.571663Z\", \"created_time_dt\": \"2021-01-03T11:25:42.571663Z\", \"duration\": \"0:00:53\", \"iteration\": \"8\", \"goal\": \"accuracy_max\", \"run_name\": \"SparseNormalizer, XGBoostClassifier\", \"run_properties\": \"<azureml.automl.runtime.shared.model_wrappers.SparseNormalizer object at 0x0000027A9A85FE48\", \"primary_metric\": 0.82609428, \"best_metric\": 0.83606061}, {\"run_id\": \"AutoML_9290b020-d984-44ed-b8ff-4d934b6b7c26_9\", \"run_number\": 35, \"metric\": null, \"status\": \"Completed\", \"run_type\": null, \"training_percent\": \"100\", \"start_time\": \"2021-01-03T11:26:40.474211Z\", \"end_time\": \"2021-01-03T11:27:24.433325Z\", \"created_time\": \"2021-01-03T11:26:38.640922Z\", \"created_time_dt\": \"2021-01-03T11:26:38.640922Z\", \"duration\": \"0:00:45\", \"iteration\": \"9\", \"goal\": \"accuracy_max\", \"run_name\": \"SparseNormalizer, LightGBM\", \"run_properties\": \"<azureml.automl.runtime.shared.model_wrappers.SparseNormalizer object at 0x0000027A9A85F828\", \"primary_metric\": 0.81599327, \"best_metric\": 0.83606061}, {\"run_id\": \"AutoML_9290b020-d984-44ed-b8ff-4d934b6b7c26_10\", \"run_number\": 36, \"metric\": null, \"status\": \"Completed\", \"run_type\": null, \"training_percent\": \"100\", \"start_time\": \"2021-01-03T11:27:28.113649Z\", \"end_time\": \"2021-01-03T11:28:08.913536Z\", \"created_time\": \"2021-01-03T11:27:26.386498Z\", \"created_time_dt\": \"2021-01-03T11:27:26.386498Z\", \"duration\": \"0:00:42\", \"iteration\": \"10\", \"goal\": \"accuracy_max\", \"run_name\": \"RobustScaler, RandomForest\", \"run_properties\": \"copy=True, quantile_range=[10, 90], with_centering=True,\\n             with_scaling=True\", \"primary_metric\": 0.84939394, \"best_metric\": 0.84939394}, {\"run_id\": \"AutoML_9290b020-d984-44ed-b8ff-4d934b6b7c26_11\", \"run_number\": 37, \"metric\": null, \"status\": \"Completed\", \"run_type\": null, \"training_percent\": \"100\", \"start_time\": \"2021-01-03T11:28:13.23674Z\", \"end_time\": \"2021-01-03T11:28:52.687113Z\", \"created_time\": \"2021-01-03T11:28:11.219534Z\", \"created_time_dt\": \"2021-01-03T11:28:11.219534Z\", \"duration\": \"0:00:41\", \"iteration\": \"11\", \"goal\": \"accuracy_max\", \"run_name\": \"MaxAbsScaler, LightGBM\", \"run_properties\": \"copy=True\", \"primary_metric\": 0.82602694, \"best_metric\": 0.84939394}, {\"run_id\": \"AutoML_9290b020-d984-44ed-b8ff-4d934b6b7c26_12\", \"run_number\": 38, \"metric\": null, \"status\": \"Completed\", \"run_type\": null, \"training_percent\": \"100\", \"start_time\": \"2021-01-03T11:28:56.541116Z\", \"end_time\": \"2021-01-03T11:29:34.595524Z\", \"created_time\": \"2021-01-03T11:28:54.703513Z\", \"created_time_dt\": \"2021-01-03T11:28:54.703513Z\", \"duration\": \"0:00:39\", \"iteration\": \"12\", \"goal\": \"accuracy_max\", \"run_name\": \"RobustScaler, ExtremeRandomTrees\", \"run_properties\": \"copy=True, quantile_range=[25, 75], with_centering=True,\\n             with_scaling=False\", \"primary_metric\": 0.83276094, \"best_metric\": 0.84939394}, {\"run_id\": \"AutoML_9290b020-d984-44ed-b8ff-4d934b6b7c26_13\", \"run_number\": 39, \"metric\": null, \"status\": \"Completed\", \"run_type\": null, \"training_percent\": \"100\", \"start_time\": \"2021-01-03T11:29:39.17636Z\", \"end_time\": \"2021-01-03T11:30:18.983216Z\", \"created_time\": \"2021-01-03T11:29:37.458733Z\", \"created_time_dt\": \"2021-01-03T11:29:37.458733Z\", \"duration\": \"0:00:41\", \"iteration\": \"13\", \"goal\": \"accuracy_max\", \"run_name\": \"SparseNormalizer, XGBoostClassifier\", \"run_properties\": \"<azureml.automl.runtime.shared.model_wrappers.SparseNormalizer object at 0x0000027A9A76EE80\", \"primary_metric\": 0.78925926, \"best_metric\": 0.84939394}, {\"run_id\": \"AutoML_9290b020-d984-44ed-b8ff-4d934b6b7c26_14\", \"run_number\": 40, \"metric\": null, \"status\": \"Completed\", \"run_type\": null, \"training_percent\": \"100\", \"start_time\": \"2021-01-03T11:30:22.767918Z\", \"end_time\": \"2021-01-03T11:31:05.171398Z\", \"created_time\": \"2021-01-03T11:30:21.008333Z\", \"created_time_dt\": \"2021-01-03T11:30:21.008333Z\", \"duration\": \"0:00:44\", \"iteration\": \"14\", \"goal\": \"accuracy_max\", \"run_name\": \"StandardScalerWrapper, LightGBM\", \"run_properties\": \"<azureml.automl.runtime.shared.model_wrappers.StandardScalerWrapper object at 0x0000027A9A759D30\", \"primary_metric\": 0.81602694, \"best_metric\": 0.84939394}, {\"run_id\": \"AutoML_9290b020-d984-44ed-b8ff-4d934b6b7c26_15\", \"run_number\": 41, \"metric\": null, \"status\": \"Completed\", \"run_type\": null, \"training_percent\": \"100\", \"start_time\": \"2021-01-03T11:31:08.956145Z\", \"end_time\": \"2021-01-03T11:31:51.804392Z\", \"created_time\": \"2021-01-03T11:31:07.174808Z\", \"created_time_dt\": \"2021-01-03T11:31:07.174808Z\", \"duration\": \"0:00:44\", \"iteration\": \"15\", \"goal\": \"accuracy_max\", \"run_name\": \"StandardScalerWrapper, XGBoostClassifier\", \"run_properties\": \"<azureml.automl.runtime.shared.model_wrappers.StandardScalerWrapper object at 0x0000027A9ACE22E8\", \"primary_metric\": 0.83265993, \"best_metric\": 0.84939394}, {\"run_id\": \"AutoML_9290b020-d984-44ed-b8ff-4d934b6b7c26_16\", \"run_number\": 42, \"metric\": null, \"status\": \"Completed\", \"run_type\": null, \"training_percent\": \"100\", \"start_time\": \"2021-01-03T11:31:55.862929Z\", \"end_time\": \"2021-01-03T11:32:36.036607Z\", \"created_time\": \"2021-01-03T11:31:54.066272Z\", \"created_time_dt\": \"2021-01-03T11:31:54.066272Z\", \"duration\": \"0:00:41\", \"iteration\": \"16\", \"goal\": \"accuracy_max\", \"run_name\": \"StandardScalerWrapper, XGBoostClassifier\", \"run_properties\": \"<azureml.automl.runtime.shared.model_wrappers.StandardScalerWrapper object at 0x0000027A9A86C2E8\", \"primary_metric\": 0.83936027, \"best_metric\": 0.84939394}, {\"run_id\": \"AutoML_9290b020-d984-44ed-b8ff-4d934b6b7c26_17\", \"run_number\": 43, \"metric\": null, \"status\": \"Completed\", \"run_type\": null, \"training_percent\": \"100\", \"start_time\": \"2021-01-03T11:32:40.615717Z\", \"end_time\": \"2021-01-03T11:33:41.600448Z\", \"created_time\": \"2021-01-03T11:32:38.781218Z\", \"created_time_dt\": \"2021-01-03T11:32:38.781218Z\", \"duration\": \"0:01:02\", \"iteration\": \"17\", \"goal\": \"accuracy_max\", \"run_name\": \"StandardScalerWrapper, RandomForest\", \"run_properties\": \"<azureml.automl.runtime.shared.model_wrappers.StandardScalerWrapper object at 0x0000027A9A61F588\", \"primary_metric\": 0.84936027, \"best_metric\": 0.84939394}, {\"run_id\": \"AutoML_9290b020-d984-44ed-b8ff-4d934b6b7c26_18\", \"run_number\": 44, \"metric\": null, \"status\": \"Completed\", \"run_type\": null, \"training_percent\": \"100\", \"start_time\": \"2021-01-03T11:33:47.28132Z\", \"end_time\": \"2021-01-03T11:34:24.363451Z\", \"created_time\": \"2021-01-03T11:33:45.538683Z\", \"created_time_dt\": \"2021-01-03T11:33:45.538683Z\", \"duration\": \"0:00:38\", \"iteration\": \"18\", \"goal\": \"accuracy_max\", \"run_name\": \"MinMaxScaler, RandomForest\", \"run_properties\": \"copy=True, feature_range=(0, 1\", \"primary_metric\": 0.80259259, \"best_metric\": 0.84939394}, {\"run_id\": \"AutoML_9290b020-d984-44ed-b8ff-4d934b6b7c26_19\", \"run_number\": 45, \"metric\": null, \"status\": \"Completed\", \"run_type\": null, \"training_percent\": \"100\", \"start_time\": \"2021-01-03T11:34:27.150076Z\", \"end_time\": \"2021-01-03T11:36:08.247416Z\", \"created_time\": \"2021-01-03T11:34:25.431902Z\", \"created_time_dt\": \"2021-01-03T11:34:25.431902Z\", \"duration\": \"0:01:42\", \"iteration\": \"19\", \"goal\": \"accuracy_max\", \"run_name\": \"VotingEnsemble\", \"run_properties\": \"classification_labels=None,\\n                              estimators=[('10',\\n                                           Pipeline(memory=None,\\n                                                    steps=[('robustscaler',\\n                                                            RobustScaler(copy=True,\\n                                                                         quantile_range=[10,\\n                                                                                         90],\\n                                                                         with_centering=True,\\n                                                                         with_scaling=True\", \"primary_metric\": 0.85942761, \"best_metric\": 0.85942761}, {\"run_id\": \"AutoML_9290b020-d984-44ed-b8ff-4d934b6b7c26_20\", \"run_number\": 46, \"metric\": null, \"status\": \"Completed\", \"run_type\": null, \"training_percent\": \"100\", \"start_time\": \"2021-01-03T11:36:10.992929Z\", \"end_time\": \"2021-01-03T11:37:46.757907Z\", \"created_time\": \"2021-01-03T11:36:09.282909Z\", \"created_time_dt\": \"2021-01-03T11:36:09.282909Z\", \"duration\": \"0:01:37\", \"iteration\": \"20\", \"goal\": \"accuracy_max\", \"run_name\": \"StackEnsemble\", \"run_properties\": \"base_learners=[('10',\\n                                        Pipeline(memory=None,\\n                                                 steps=[('robustscaler',\\n                                                         RobustScaler(copy=True,\\n                                                                      quantile_range=[10,\\n                                                                                      90],\\n                                                                      with_centering=True,\\n                                                                      with_scaling=True\", \"primary_metric\": 0.84606061, \"best_metric\": 0.85942761}], \"children_metrics\": {\"categories\": [0], \"series\": {\"f1_score_micro\": [{\"categories\": [\"0\", \"1\", \"2\", \"3\", \"4\", \"5\", \"6\", \"7\", \"8\", \"9\", \"10\", \"11\", \"12\", \"13\", \"14\", \"15\", \"16\", \"17\", \"18\", \"19\", \"20\"], \"mode\": \"markers\", \"name\": \"f1_score_micro\", \"stepped\": false, \"type\": \"scatter\", \"data\": [0.8025252525252525, 0.8192929292929293, 0.8225252525252525, 0.8225925925925925, 0.8360606060606061, 0.7156565656565657, 0.8293939393939395, 0.8227272727272728, 0.8260942760942761, 0.8159932659932659, 0.8493939393939395, 0.826026936026936, 0.8327609427609427, 0.7892592592592592, 0.816026936026936, 0.8326599326599328, 0.8393602693602694, 0.8493602693602694, 0.8025925925925925, 0.8594276094276094, 0.8460606060606062]}, {\"categories\": [\"0\", \"1\", \"2\", \"3\", \"4\", \"5\", \"6\", \"7\", \"8\", \"9\", \"10\", \"11\", \"12\", \"13\", \"14\", \"15\", \"16\", \"17\", \"18\", \"19\", \"20\"], \"mode\": \"lines\", \"name\": \"f1_score_micro_max\", \"stepped\": true, \"type\": \"scatter\", \"data\": [0.8025252525252525, 0.8192929292929293, 0.8225252525252525, 0.8225925925925925, 0.8360606060606061, 0.8360606060606061, 0.8360606060606061, 0.8360606060606061, 0.8360606060606061, 0.8360606060606061, 0.8493939393939395, 0.8493939393939395, 0.8493939393939395, 0.8493939393939395, 0.8493939393939395, 0.8493939393939395, 0.8493939393939395, 0.8493939393939395, 0.8493939393939395, 0.8594276094276094, 0.8594276094276094]}], \"f1_score_macro\": [{\"categories\": [\"0\", \"1\", \"2\", \"3\", \"4\", \"5\", \"6\", \"7\", \"8\", \"9\", \"10\", \"11\", \"12\", \"13\", \"14\", \"15\", \"16\", \"17\", \"18\", \"19\", \"20\"], \"mode\": \"markers\", \"name\": \"f1_score_macro\", \"stepped\": false, \"type\": \"scatter\", \"data\": [0.7670520318568558, 0.7892216866138503, 0.7954375510884645, 0.7892819804204859, 0.8091204264861204, 0.6010884575400705, 0.7981602582785102, 0.7909650753351166, 0.7911289097248447, 0.7806978037806314, 0.8221407573533933, 0.7819202477082499, 0.7882539030938046, 0.7508610464091664, 0.7572110333858785, 0.7993441733468817, 0.8102264662568651, 0.8231008175078376, 0.7702365107415913, 0.8334192378974817, 0.8160678976535293]}, {\"categories\": [\"0\", \"1\", \"2\", \"3\", \"4\", \"5\", \"6\", \"7\", \"8\", \"9\", \"10\", \"11\", \"12\", \"13\", \"14\", \"15\", \"16\", \"17\", \"18\", \"19\", \"20\"], \"mode\": \"lines\", \"name\": \"f1_score_macro_max\", \"stepped\": true, \"type\": \"scatter\", \"data\": [0.7670520318568558, 0.7892216866138503, 0.7954375510884645, 0.7954375510884645, 0.8091204264861204, 0.8091204264861204, 0.8091204264861204, 0.8091204264861204, 0.8091204264861204, 0.8091204264861204, 0.8221407573533933, 0.8221407573533933, 0.8221407573533933, 0.8221407573533933, 0.8221407573533933, 0.8221407573533933, 0.8221407573533933, 0.8231008175078376, 0.8231008175078376, 0.8334192378974817, 0.8334192378974817]}], \"recall_score_weighted\": [{\"categories\": [\"0\", \"1\", \"2\", \"3\", \"4\", \"5\", \"6\", \"7\", \"8\", \"9\", \"10\", \"11\", \"12\", \"13\", \"14\", \"15\", \"16\", \"17\", \"18\", \"19\", \"20\"], \"mode\": \"markers\", \"name\": \"recall_score_weighted\", \"stepped\": false, \"type\": \"scatter\", \"data\": [0.8025252525252524, 0.8192929292929293, 0.8225252525252525, 0.8225925925925925, 0.8360606060606061, 0.7156565656565657, 0.8293939393939395, 0.8227272727272728, 0.8260942760942761, 0.8159932659932659, 0.8493939393939395, 0.826026936026936, 0.8327609427609427, 0.7892592592592592, 0.816026936026936, 0.8326599326599328, 0.8393602693602693, 0.8493602693602694, 0.8025925925925925, 0.8594276094276094, 0.8460606060606062]}, {\"categories\": [\"0\", \"1\", \"2\", \"3\", \"4\", \"5\", \"6\", \"7\", \"8\", \"9\", \"10\", \"11\", \"12\", \"13\", \"14\", \"15\", \"16\", \"17\", \"18\", \"19\", \"20\"], \"mode\": \"lines\", \"name\": \"recall_score_weighted_max\", \"stepped\": true, \"type\": \"scatter\", \"data\": [0.8025252525252524, 0.8192929292929293, 0.8225252525252525, 0.8225925925925925, 0.8360606060606061, 0.8360606060606061, 0.8360606060606061, 0.8360606060606061, 0.8360606060606061, 0.8360606060606061, 0.8493939393939395, 0.8493939393939395, 0.8493939393939395, 0.8493939393939395, 0.8493939393939395, 0.8493939393939395, 0.8493939393939395, 0.8493939393939395, 0.8493939393939395, 0.8594276094276094, 0.8594276094276094]}], \"f1_score_weighted\": [{\"categories\": [\"0\", \"1\", \"2\", \"3\", \"4\", \"5\", \"6\", \"7\", \"8\", \"9\", \"10\", \"11\", \"12\", \"13\", \"14\", \"15\", \"16\", \"17\", \"18\", \"19\", \"20\"], \"mode\": \"markers\", \"name\": \"f1_score_weighted\", \"stepped\": false, \"type\": \"scatter\", \"data\": [0.7994850745596541, 0.8173118768300475, 0.8214830675772541, 0.818377882545243, 0.8347072085484318, 0.6783215142628632, 0.8254517299282781, 0.8194967858757131, 0.8207987626496537, 0.8121937799656576, 0.8458982657692363, 0.8164740735429362, 0.8219587431512719, 0.7850325685987918, 0.8005382385748847, 0.8281465314922216, 0.8359264860095852, 0.847035186523021, 0.8000153120078449, 0.8563940365375847, 0.8413416340928531]}, {\"categories\": [\"0\", \"1\", \"2\", \"3\", \"4\", \"5\", \"6\", \"7\", \"8\", \"9\", \"10\", \"11\", \"12\", \"13\", \"14\", \"15\", \"16\", \"17\", \"18\", \"19\", \"20\"], \"mode\": \"lines\", \"name\": \"f1_score_weighted_max\", \"stepped\": true, \"type\": \"scatter\", \"data\": [0.7994850745596541, 0.8173118768300475, 0.8214830675772541, 0.8214830675772541, 0.8347072085484318, 0.8347072085484318, 0.8347072085484318, 0.8347072085484318, 0.8347072085484318, 0.8347072085484318, 0.8458982657692363, 0.8458982657692363, 0.8458982657692363, 0.8458982657692363, 0.8458982657692363, 0.8458982657692363, 0.8458982657692363, 0.847035186523021, 0.847035186523021, 0.8563940365375847, 0.8563940365375847]}], \"precision_score_micro\": [{\"categories\": [\"0\", \"1\", \"2\", \"3\", \"4\", \"5\", \"6\", \"7\", \"8\", \"9\", \"10\", \"11\", \"12\", \"13\", \"14\", \"15\", \"16\", \"17\", \"18\", \"19\", \"20\"], \"mode\": \"markers\", \"name\": \"precision_score_micro\", \"stepped\": false, \"type\": \"scatter\", \"data\": [0.8025252525252524, 0.8192929292929293, 0.8225252525252525, 0.8225925925925925, 0.8360606060606061, 0.7156565656565657, 0.8293939393939395, 0.8227272727272728, 0.8260942760942761, 0.8159932659932659, 0.8493939393939395, 0.826026936026936, 0.8327609427609427, 0.7892592592592592, 0.816026936026936, 0.8326599326599328, 0.8393602693602693, 0.8493602693602694, 0.8025925925925925, 0.8594276094276094, 0.8460606060606062]}, {\"categories\": [\"0\", \"1\", \"2\", \"3\", \"4\", \"5\", \"6\", \"7\", \"8\", \"9\", \"10\", \"11\", \"12\", \"13\", \"14\", \"15\", \"16\", \"17\", \"18\", \"19\", \"20\"], \"mode\": \"lines\", \"name\": \"precision_score_micro_max\", \"stepped\": true, \"type\": \"scatter\", \"data\": [0.8025252525252524, 0.8192929292929293, 0.8225252525252525, 0.8225925925925925, 0.8360606060606061, 0.8360606060606061, 0.8360606060606061, 0.8360606060606061, 0.8360606060606061, 0.8360606060606061, 0.8493939393939395, 0.8493939393939395, 0.8493939393939395, 0.8493939393939395, 0.8493939393939395, 0.8493939393939395, 0.8493939393939395, 0.8493939393939395, 0.8493939393939395, 0.8594276094276094, 0.8594276094276094]}], \"recall_score_micro\": [{\"categories\": [\"0\", \"1\", \"2\", \"3\", \"4\", \"5\", \"6\", \"7\", \"8\", \"9\", \"10\", \"11\", \"12\", \"13\", \"14\", \"15\", \"16\", \"17\", \"18\", \"19\", \"20\"], \"mode\": \"markers\", \"name\": \"recall_score_micro\", \"stepped\": false, \"type\": \"scatter\", \"data\": [0.8025252525252524, 0.8192929292929293, 0.8225252525252525, 0.8225925925925925, 0.8360606060606061, 0.7156565656565657, 0.8293939393939395, 0.8227272727272728, 0.8260942760942761, 0.8159932659932659, 0.8493939393939395, 0.826026936026936, 0.8327609427609427, 0.7892592592592592, 0.816026936026936, 0.8326599326599328, 0.8393602693602693, 0.8493602693602694, 0.8025925925925925, 0.8594276094276094, 0.8460606060606062]}, {\"categories\": [\"0\", \"1\", \"2\", \"3\", \"4\", \"5\", \"6\", \"7\", \"8\", \"9\", \"10\", \"11\", \"12\", \"13\", \"14\", \"15\", \"16\", \"17\", \"18\", \"19\", \"20\"], \"mode\": \"lines\", \"name\": \"recall_score_micro_max\", \"stepped\": true, \"type\": \"scatter\", \"data\": [0.8025252525252524, 0.8192929292929293, 0.8225252525252525, 0.8225925925925925, 0.8360606060606061, 0.8360606060606061, 0.8360606060606061, 0.8360606060606061, 0.8360606060606061, 0.8360606060606061, 0.8493939393939395, 0.8493939393939395, 0.8493939393939395, 0.8493939393939395, 0.8493939393939395, 0.8493939393939395, 0.8493939393939395, 0.8493939393939395, 0.8493939393939395, 0.8594276094276094, 0.8594276094276094]}], \"balanced_accuracy\": [{\"categories\": [\"0\", \"1\", \"2\", \"3\", \"4\", \"5\", \"6\", \"7\", \"8\", \"9\", \"10\", \"11\", \"12\", \"13\", \"14\", \"15\", \"16\", \"17\", \"18\", \"19\", \"20\"], \"mode\": \"markers\", \"name\": \"balanced_accuracy\", \"stepped\": false, \"type\": \"scatter\", \"data\": [0.7665542389680322, 0.7899604037535072, 0.7994112338939926, 0.7854487492418527, 0.8097429942257529, 0.601941596769183, 0.799926034408793, 0.7909384754212341, 0.7845821190648777, 0.7749540180574662, 0.8197014748738886, 0.7693314003658832, 0.7721613238854618, 0.7491982129913165, 0.734901403866921, 0.7947881378915861, 0.8091924436752023, 0.8205824050651637, 0.7749123507744198, 0.8277252622080208, 0.8118307963135548]}, {\"categories\": [\"0\", \"1\", \"2\", \"3\", \"4\", \"5\", \"6\", \"7\", \"8\", \"9\", \"10\", \"11\", \"12\", \"13\", \"14\", \"15\", \"16\", \"17\", \"18\", \"19\", \"20\"], \"mode\": \"lines\", \"name\": \"balanced_accuracy_max\", \"stepped\": true, \"type\": \"scatter\", \"data\": [0.7665542389680322, 0.7899604037535072, 0.7994112338939926, 0.7994112338939926, 0.8097429942257529, 0.8097429942257529, 0.8097429942257529, 0.8097429942257529, 0.8097429942257529, 0.8097429942257529, 0.8197014748738886, 0.8197014748738886, 0.8197014748738886, 0.8197014748738886, 0.8197014748738886, 0.8197014748738886, 0.8197014748738886, 0.8205824050651637, 0.8205824050651637, 0.8277252622080208, 0.8277252622080208]}], \"average_precision_score_macro\": [{\"categories\": [\"0\", \"1\", \"2\", \"3\", \"4\", \"5\", \"6\", \"7\", \"8\", \"9\", \"10\", \"11\", \"12\", \"13\", \"14\", \"15\", \"16\", \"17\", \"18\", \"19\", \"20\"], \"mode\": \"markers\", \"name\": \"average_precision_score_macro\", \"stepped\": false, \"type\": \"scatter\", \"data\": [0.8323265818260129, 0.8521645844042397, 0.8571797154421678, 0.8642042998395189, 0.8630257079134926, 0.7213350199982282, 0.8771769832257362, 0.8832981443020788, 0.8526922184281899, 0.8347177601421962, 0.8792336738844266, 0.869225025179324, 0.8694189941636091, 0.8101763519516525, 0.8552399103427493, 0.8771727742235864, 0.8776335576130828, 0.896254095384811, 0.8371979725463773, 0.8847261695862234, 0.8835709775521181]}, {\"categories\": [\"0\", \"1\", \"2\", \"3\", \"4\", \"5\", \"6\", \"7\", \"8\", \"9\", \"10\", \"11\", \"12\", \"13\", \"14\", \"15\", \"16\", \"17\", \"18\", \"19\", \"20\"], \"mode\": \"lines\", \"name\": \"average_precision_score_macro_max\", \"stepped\": true, \"type\": \"scatter\", \"data\": [0.8323265818260129, 0.8521645844042397, 0.8571797154421678, 0.8642042998395189, 0.8642042998395189, 0.8642042998395189, 0.8771769832257362, 0.8832981443020788, 0.8832981443020788, 0.8832981443020788, 0.8832981443020788, 0.8832981443020788, 0.8832981443020788, 0.8832981443020788, 0.8832981443020788, 0.8832981443020788, 0.8832981443020788, 0.896254095384811, 0.896254095384811, 0.896254095384811, 0.896254095384811]}], \"AUC_weighted\": [{\"categories\": [\"0\", \"1\", \"2\", \"3\", \"4\", \"5\", \"6\", \"7\", \"8\", \"9\", \"10\", \"11\", \"12\", \"13\", \"14\", \"15\", \"16\", \"17\", \"18\", \"19\", \"20\"], \"mode\": \"markers\", \"name\": \"AUC_weighted\", \"stepped\": false, \"type\": \"scatter\", \"data\": [0.8550287233045855, 0.875938401455643, 0.8885338540510954, 0.8828090159124642, 0.8906751332613402, 0.7412870012870014, 0.8949903598179461, 0.8948035227345571, 0.8721058003816623, 0.8523372633717461, 0.8972359551669896, 0.8845916359709464, 0.8761924979166359, 0.8433019226122674, 0.8722483074207211, 0.8894582266996061, 0.898093413610655, 0.90928381583554, 0.8639290275497172, 0.9025671484292174, 0.9015818774439462]}, {\"categories\": [\"0\", \"1\", \"2\", \"3\", \"4\", \"5\", \"6\", \"7\", \"8\", \"9\", \"10\", \"11\", \"12\", \"13\", \"14\", \"15\", \"16\", \"17\", \"18\", \"19\", \"20\"], \"mode\": \"lines\", \"name\": \"AUC_weighted_max\", \"stepped\": true, \"type\": \"scatter\", \"data\": [0.8550287233045855, 0.875938401455643, 0.8885338540510954, 0.8885338540510954, 0.8906751332613402, 0.8906751332613402, 0.8949903598179461, 0.8949903598179461, 0.8949903598179461, 0.8949903598179461, 0.8972359551669896, 0.8972359551669896, 0.8972359551669896, 0.8972359551669896, 0.8972359551669896, 0.8972359551669896, 0.898093413610655, 0.90928381583554, 0.90928381583554, 0.90928381583554, 0.90928381583554]}], \"average_precision_score_weighted\": [{\"categories\": [\"0\", \"1\", \"2\", \"3\", \"4\", \"5\", \"6\", \"7\", \"8\", \"9\", \"10\", \"11\", \"12\", \"13\", \"14\", \"15\", \"16\", \"17\", \"18\", \"19\", \"20\"], \"mode\": \"markers\", \"name\": \"average_precision_score_weighted\", \"stepped\": false, \"type\": \"scatter\", \"data\": [0.8648843990393956, 0.8836277505100775, 0.8910944337523775, 0.8913036452136991, 0.8941015101563735, 0.7691564649206919, 0.9022131845129292, 0.9061166066810392, 0.8830942181235276, 0.865115733430672, 0.9031185581404609, 0.891473158093814, 0.8916148541678489, 0.844925532428296, 0.8799745702179605, 0.9018205625019067, 0.9028915467769384, 0.9177125612784595, 0.8667172000262964, 0.9089176331286836, 0.9077538512725658]}, {\"categories\": [\"0\", \"1\", \"2\", \"3\", \"4\", \"5\", \"6\", \"7\", \"8\", \"9\", \"10\", \"11\", \"12\", \"13\", \"14\", \"15\", \"16\", \"17\", \"18\", \"19\", \"20\"], \"mode\": \"lines\", \"name\": \"average_precision_score_weighted_max\", \"stepped\": true, \"type\": \"scatter\", \"data\": [0.8648843990393956, 0.8836277505100775, 0.8910944337523775, 0.8913036452136991, 0.8941015101563735, 0.8941015101563735, 0.9022131845129292, 0.9061166066810392, 0.9061166066810392, 0.9061166066810392, 0.9061166066810392, 0.9061166066810392, 0.9061166066810392, 0.9061166066810392, 0.9061166066810392, 0.9061166066810392, 0.9061166066810392, 0.9177125612784595, 0.9177125612784595, 0.9177125612784595, 0.9177125612784595]}], \"precision_score_weighted\": [{\"categories\": [\"0\", \"1\", \"2\", \"3\", \"4\", \"5\", \"6\", \"7\", \"8\", \"9\", \"10\", \"11\", \"12\", \"13\", \"14\", \"15\", \"16\", \"17\", \"18\", \"19\", \"20\"], \"mode\": \"markers\", \"name\": \"precision_score_weighted\", \"stepped\": false, \"type\": \"scatter\", \"data\": [0.8103076903348296, 0.8235687391092353, 0.8352616312825539, 0.830385080688111, 0.8405730264375434, 0.7043260398229974, 0.8378234173585217, 0.8301551209981994, 0.8287511873416182, 0.81769758847991, 0.856513891168075, 0.8308275449298176, 0.8393542441963495, 0.79189495969799, 0.8230030611502112, 0.8394155294085168, 0.8461868722990795, 0.8548264008241621, 0.8177592160925494, 0.8630902990767622, 0.8520038757723315]}, {\"categories\": [\"0\", \"1\", \"2\", \"3\", \"4\", \"5\", \"6\", \"7\", \"8\", \"9\", \"10\", \"11\", \"12\", \"13\", \"14\", \"15\", \"16\", \"17\", \"18\", \"19\", \"20\"], \"mode\": \"lines\", \"name\": \"precision_score_weighted_max\", \"stepped\": true, \"type\": \"scatter\", \"data\": [0.8103076903348296, 0.8235687391092353, 0.8352616312825539, 0.8352616312825539, 0.8405730264375434, 0.8405730264375434, 0.8405730264375434, 0.8405730264375434, 0.8405730264375434, 0.8405730264375434, 0.856513891168075, 0.856513891168075, 0.856513891168075, 0.856513891168075, 0.856513891168075, 0.856513891168075, 0.856513891168075, 0.856513891168075, 0.856513891168075, 0.8630902990767622, 0.8630902990767622]}], \"precision_score_macro\": [{\"categories\": [\"0\", \"1\", \"2\", \"3\", \"4\", \"5\", \"6\", \"7\", \"8\", \"9\", \"10\", \"11\", \"12\", \"13\", \"14\", \"15\", \"16\", \"17\", \"18\", \"19\", \"20\"], \"mode\": \"markers\", \"name\": \"precision_score_macro\", \"stepped\": false, \"type\": \"scatter\", \"data\": [0.7842311567478019, 0.7983113869170717, 0.8094475773836356, 0.8127289377289376, 0.81713203630889, 0.6825033992376791, 0.816123208438199, 0.8077131301823369, 0.8136007445814872, 0.7974877618199617, 0.8416009588645101, 0.824191317941318, 0.8396732853457999, 0.7657828282828283, 0.8311398439124255, 0.8229075511442391, 0.8277286124106764, 0.8377284707415305, 0.7902763902763903, 0.850711944497235, 0.8388088541418717]}, {\"categories\": [\"0\", \"1\", \"2\", \"3\", \"4\", \"5\", \"6\", \"7\", \"8\", \"9\", \"10\", \"11\", \"12\", \"13\", \"14\", \"15\", \"16\", \"17\", \"18\", \"19\", \"20\"], \"mode\": \"lines\", \"name\": \"precision_score_macro_max\", \"stepped\": true, \"type\": \"scatter\", \"data\": [0.7842311567478019, 0.7983113869170717, 0.8094475773836356, 0.8127289377289376, 0.81713203630889, 0.81713203630889, 0.81713203630889, 0.81713203630889, 0.81713203630889, 0.81713203630889, 0.8416009588645101, 0.8416009588645101, 0.8416009588645101, 0.8416009588645101, 0.8416009588645101, 0.8416009588645101, 0.8416009588645101, 0.8416009588645101, 0.8416009588645101, 0.850711944497235, 0.850711944497235]}], \"weighted_accuracy\": [{\"categories\": [\"0\", \"1\", \"2\", \"3\", \"4\", \"5\", \"6\", \"7\", \"8\", \"9\", \"10\", \"11\", \"12\", \"13\", \"14\", \"15\", \"16\", \"17\", \"18\", \"19\", \"20\"], \"mode\": \"markers\", \"name\": \"weighted_accuracy\", \"stepped\": false, \"type\": \"scatter\", \"data\": [0.8310099034285422, 0.8426543037328149, 0.8416960101798979, 0.8521819574765989, 0.8569987896719485, 0.8016590618157968, 0.8534150719766559, 0.8482542859402998, 0.8587177606487751, 0.8478608178708912, 0.8734599551837133, 0.8697735587560095, 0.8795330470089283, 0.8208279267362553, 0.8770157302784055, 0.8626138572373078, 0.8637301832468287, 0.8723741284154958, 0.8255001146321268, 0.8845257820783002, 0.8735300145053916]}, {\"categories\": [\"0\", \"1\", \"2\", \"3\", \"4\", \"5\", \"6\", \"7\", \"8\", \"9\", \"10\", \"11\", \"12\", \"13\", \"14\", \"15\", \"16\", \"17\", \"18\", \"19\", \"20\"], \"mode\": \"lines\", \"name\": \"weighted_accuracy_max\", \"stepped\": true, \"type\": \"scatter\", \"data\": [0.8310099034285422, 0.8426543037328149, 0.8426543037328149, 0.8521819574765989, 0.8569987896719485, 0.8569987896719485, 0.8569987896719485, 0.8569987896719485, 0.8587177606487751, 0.8587177606487751, 0.8734599551837133, 0.8734599551837133, 0.8795330470089283, 0.8795330470089283, 0.8795330470089283, 0.8795330470089283, 0.8795330470089283, 0.8795330470089283, 0.8795330470089283, 0.8845257820783002, 0.8845257820783002]}], \"recall_score_macro\": [{\"categories\": [\"0\", \"1\", \"2\", \"3\", \"4\", \"5\", \"6\", \"7\", \"8\", \"9\", \"10\", \"11\", \"12\", \"13\", \"14\", \"15\", \"16\", \"17\", \"18\", \"19\", \"20\"], \"mode\": \"markers\", \"name\": \"recall_score_macro\", \"stepped\": false, \"type\": \"scatter\", \"data\": [0.7665542389680322, 0.7899604037535072, 0.7994112338939926, 0.7854487492418527, 0.8097429942257529, 0.601941596769183, 0.799926034408793, 0.7909384754212341, 0.7845821190648777, 0.7749540180574662, 0.8197014748738886, 0.7693314003658832, 0.7721613238854618, 0.7491982129913165, 0.734901403866921, 0.7947881378915861, 0.8091924436752023, 0.8205824050651637, 0.7749123507744198, 0.8277252622080208, 0.8118307963135548]}, {\"categories\": [\"0\", \"1\", \"2\", \"3\", \"4\", \"5\", \"6\", \"7\", \"8\", \"9\", \"10\", \"11\", \"12\", \"13\", \"14\", \"15\", \"16\", \"17\", \"18\", \"19\", \"20\"], \"mode\": \"lines\", \"name\": \"recall_score_macro_max\", \"stepped\": true, \"type\": \"scatter\", \"data\": [0.7665542389680322, 0.7899604037535072, 0.7994112338939926, 0.7994112338939926, 0.8097429942257529, 0.8097429942257529, 0.8097429942257529, 0.8097429942257529, 0.8097429942257529, 0.8097429942257529, 0.8197014748738886, 0.8197014748738886, 0.8197014748738886, 0.8197014748738886, 0.8197014748738886, 0.8197014748738886, 0.8197014748738886, 0.8205824050651637, 0.8205824050651637, 0.8277252622080208, 0.8277252622080208]}], \"AUC_macro\": [{\"categories\": [\"0\", \"1\", \"2\", \"3\", \"4\", \"5\", \"6\", \"7\", \"8\", \"9\", \"10\", \"11\", \"12\", \"13\", \"14\", \"15\", \"16\", \"17\", \"18\", \"19\", \"20\"], \"mode\": \"markers\", \"name\": \"AUC_macro\", \"stepped\": false, \"type\": \"scatter\", \"data\": [0.8550287233045853, 0.875938401455643, 0.8885338540510954, 0.8828090159124642, 0.8906844282706352, 0.7412870012870013, 0.8949903598179461, 0.8948035227345573, 0.8721058003816623, 0.8523372633717461, 0.8972359551669896, 0.8845916359709464, 0.8761924979166359, 0.8433019226122674, 0.8722483074207211, 0.8894582266996061, 0.898093413610655, 0.9092838158355399, 0.8639290275497172, 0.9025671484292174, 0.9015818774439465]}, {\"categories\": [\"0\", \"1\", \"2\", \"3\", \"4\", \"5\", \"6\", \"7\", \"8\", \"9\", \"10\", \"11\", \"12\", \"13\", \"14\", \"15\", \"16\", \"17\", \"18\", \"19\", \"20\"], \"mode\": \"lines\", \"name\": \"AUC_macro_max\", \"stepped\": true, \"type\": \"scatter\", \"data\": [0.8550287233045853, 0.875938401455643, 0.8885338540510954, 0.8885338540510954, 0.8906844282706352, 0.8906844282706352, 0.8949903598179461, 0.8949903598179461, 0.8949903598179461, 0.8949903598179461, 0.8972359551669896, 0.8972359551669896, 0.8972359551669896, 0.8972359551669896, 0.8972359551669896, 0.8972359551669896, 0.898093413610655, 0.9092838158355399, 0.9092838158355399, 0.9092838158355399, 0.9092838158355399]}], \"average_precision_score_micro\": [{\"categories\": [\"0\", \"1\", \"2\", \"3\", \"4\", \"5\", \"6\", \"7\", \"8\", \"9\", \"10\", \"11\", \"12\", \"13\", \"14\", \"15\", \"16\", \"17\", \"18\", \"19\", \"20\"], \"mode\": \"markers\", \"name\": \"average_precision_score_micro\", \"stepped\": false, \"type\": \"scatter\", \"data\": [0.8707751210307144, 0.8886385174313017, 0.8977196718094126, 0.891846945076827, 0.8971485174673931, 0.7870646456319043, 0.9041229458517966, 0.9019271940151604, 0.8884747174224475, 0.8710512405115631, 0.9028506146056824, 0.8912432012321995, 0.8899927494887248, 0.8536389766126039, 0.871788983229679, 0.9011109694847711, 0.9042655906012719, 0.914120205129387, 0.8707710021389813, 0.910336281765144, 0.9032484242622214]}, {\"categories\": [\"0\", \"1\", \"2\", \"3\", \"4\", \"5\", \"6\", \"7\", \"8\", \"9\", \"10\", \"11\", \"12\", \"13\", \"14\", \"15\", \"16\", \"17\", \"18\", \"19\", \"20\"], \"mode\": \"lines\", \"name\": \"average_precision_score_micro_max\", \"stepped\": true, \"type\": \"scatter\", \"data\": [0.8707751210307144, 0.8886385174313017, 0.8977196718094126, 0.8977196718094126, 0.8977196718094126, 0.8977196718094126, 0.9041229458517966, 0.9041229458517966, 0.9041229458517966, 0.9041229458517966, 0.9041229458517966, 0.9041229458517966, 0.9041229458517966, 0.9041229458517966, 0.9041229458517966, 0.9041229458517966, 0.9042655906012719, 0.914120205129387, 0.914120205129387, 0.914120205129387, 0.914120205129387]}], \"log_loss\": [{\"categories\": [\"0\", \"1\", \"2\", \"3\", \"4\", \"5\", \"6\", \"7\", \"8\", \"9\", \"10\", \"11\", \"12\", \"13\", \"14\", \"15\", \"16\", \"17\", \"18\", \"19\", \"20\"], \"mode\": \"markers\", \"name\": \"log_loss\", \"stepped\": false, \"type\": \"scatter\", \"data\": [0.5791360620615199, 0.4649911805096085, 0.40104242911147203, 0.4244030640339964, 0.41396758925103194, 0.5646366050943159, 0.3910236264698091, 0.41687217800959614, 0.43096050975314704, 0.4414816726328985, 0.3916536182472931, 0.4381326788082767, 0.43244756825515696, 0.4976134925356415, 0.4837681890675325, 0.4804551370441686, 0.40412779542387156, 0.402621466399476, 0.8480327576723283, 0.3956809484012051, 0.41854577384822694]}, {\"categories\": [\"0\", \"1\", \"2\", \"3\", \"4\", \"5\", \"6\", \"7\", \"8\", \"9\", \"10\", \"11\", \"12\", \"13\", \"14\", \"15\", \"16\", \"17\", \"18\", \"19\", \"20\"], \"mode\": \"lines\", \"name\": \"log_loss_min\", \"stepped\": true, \"type\": \"scatter\", \"data\": [0.5791360620615199, 0.4649911805096085, 0.40104242911147203, 0.40104242911147203, 0.40104242911147203, 0.40104242911147203, 0.3910236264698091, 0.3910236264698091, 0.3910236264698091, 0.3910236264698091, 0.3910236264698091, 0.3910236264698091, 0.3910236264698091, 0.3910236264698091, 0.3910236264698091, 0.3910236264698091, 0.3910236264698091, 0.3910236264698091, 0.3910236264698091, 0.3910236264698091, 0.3910236264698091]}], \"AUC_micro\": [{\"categories\": [\"0\", \"1\", \"2\", \"3\", \"4\", \"5\", \"6\", \"7\", \"8\", \"9\", \"10\", \"11\", \"12\", \"13\", \"14\", \"15\", \"16\", \"17\", \"18\", \"19\", \"20\"], \"mode\": \"markers\", \"name\": \"AUC_micro\", \"stepped\": false, \"type\": \"scatter\", \"data\": [0.8769284528789579, 0.8907238819168114, 0.8929897051321293, 0.8928957963473115, 0.8982821735877291, 0.7940569754786927, 0.9045693942794952, 0.9023541645410332, 0.8867912219841512, 0.8759056048702513, 0.9050049280685645, 0.898113556439819, 0.8920737917899535, 0.8621066251743019, 0.877566180321736, 0.8990304764819915, 0.9053660102710608, 0.9123944359419108, 0.8825348807944767, 0.9102984967520321, 0.9025837771655953]}, {\"categories\": [\"0\", \"1\", \"2\", \"3\", \"4\", \"5\", \"6\", \"7\", \"8\", \"9\", \"10\", \"11\", \"12\", \"13\", \"14\", \"15\", \"16\", \"17\", \"18\", \"19\", \"20\"], \"mode\": \"lines\", \"name\": \"AUC_micro_max\", \"stepped\": true, \"type\": \"scatter\", \"data\": [0.8769284528789579, 0.8907238819168114, 0.8929897051321293, 0.8929897051321293, 0.8982821735877291, 0.8982821735877291, 0.9045693942794952, 0.9045693942794952, 0.9045693942794952, 0.9045693942794952, 0.9050049280685645, 0.9050049280685645, 0.9050049280685645, 0.9050049280685645, 0.9050049280685645, 0.9050049280685645, 0.9053660102710608, 0.9123944359419108, 0.9123944359419108, 0.9123944359419108, 0.9123944359419108]}], \"accuracy\": [{\"categories\": [\"0\", \"1\", \"2\", \"3\", \"4\", \"5\", \"6\", \"7\", \"8\", \"9\", \"10\", \"11\", \"12\", \"13\", \"14\", \"15\", \"16\", \"17\", \"18\", \"19\", \"20\"], \"mode\": \"markers\", \"name\": \"accuracy\", \"stepped\": false, \"type\": \"scatter\", \"data\": [0.8025252525252524, 0.8192929292929293, 0.8225252525252525, 0.8225925925925925, 0.8360606060606061, 0.7156565656565657, 0.8293939393939395, 0.8227272727272728, 0.8260942760942761, 0.8159932659932659, 0.8493939393939395, 0.826026936026936, 0.8327609427609427, 0.7892592592592592, 0.816026936026936, 0.8326599326599328, 0.8393602693602693, 0.8493602693602694, 0.8025925925925925, 0.8594276094276094, 0.8460606060606062]}, {\"categories\": [\"0\", \"1\", \"2\", \"3\", \"4\", \"5\", \"6\", \"7\", \"8\", \"9\", \"10\", \"11\", \"12\", \"13\", \"14\", \"15\", \"16\", \"17\", \"18\", \"19\", \"20\"], \"mode\": \"lines\", \"name\": \"accuracy_max\", \"stepped\": true, \"type\": \"scatter\", \"data\": [0.8025252525252524, 0.8192929292929293, 0.8225252525252525, 0.8225925925925925, 0.8360606060606061, 0.8360606060606061, 0.8360606060606061, 0.8360606060606061, 0.8360606060606061, 0.8360606060606061, 0.8493939393939395, 0.8493939393939395, 0.8493939393939395, 0.8493939393939395, 0.8493939393939395, 0.8493939393939395, 0.8493939393939395, 0.8493939393939395, 0.8493939393939395, 0.8594276094276094, 0.8594276094276094]}], \"norm_macro_recall\": [{\"categories\": [\"0\", \"1\", \"2\", \"3\", \"4\", \"5\", \"6\", \"7\", \"8\", \"9\", \"10\", \"11\", \"12\", \"13\", \"14\", \"15\", \"16\", \"17\", \"18\", \"19\", \"20\"], \"mode\": \"markers\", \"name\": \"norm_macro_recall\", \"stepped\": false, \"type\": \"scatter\", \"data\": [0.5331084779360642, 0.5799208075070145, 0.598822467787985, 0.5708974984837053, 0.6194859884515057, 0.20388319353836595, 0.599852068817586, 0.581876950842468, 0.5691642381297553, 0.5499080361149326, 0.6394029497477773, 0.5386628007317663, 0.5443226477709237, 0.49839642598263295, 0.4698028077338421, 0.5895762757831723, 0.6183848873504046, 0.6411648101303273, 0.5498247015488394, 0.6554505244160417, 0.6236615926271099]}, {\"categories\": [\"0\", \"1\", \"2\", \"3\", \"4\", \"5\", \"6\", \"7\", \"8\", \"9\", \"10\", \"11\", \"12\", \"13\", \"14\", \"15\", \"16\", \"17\", \"18\", \"19\", \"20\"], \"mode\": \"lines\", \"name\": \"norm_macro_recall_max\", \"stepped\": true, \"type\": \"scatter\", \"data\": [0.5331084779360642, 0.5799208075070145, 0.598822467787985, 0.598822467787985, 0.6194859884515057, 0.6194859884515057, 0.6194859884515057, 0.6194859884515057, 0.6194859884515057, 0.6194859884515057, 0.6394029497477773, 0.6394029497477773, 0.6394029497477773, 0.6394029497477773, 0.6394029497477773, 0.6394029497477773, 0.6394029497477773, 0.6411648101303273, 0.6411648101303273, 0.6554505244160417, 0.6554505244160417]}], \"matthews_correlation\": [{\"categories\": [\"0\", \"1\", \"2\", \"3\", \"4\", \"5\", \"6\", \"7\", \"8\", \"9\", \"10\", \"11\", \"12\", \"13\", \"14\", \"15\", \"16\", \"17\", \"18\", \"19\", \"20\"], \"mode\": \"markers\", \"name\": \"matthews_correlation\", \"stepped\": false, \"type\": \"scatter\", \"data\": [0.5489062305154261, 0.5873460381369527, 0.6070528584296127, 0.5958978013403554, 0.6260516350695697, 0.27236163612296654, 0.6137552015760616, 0.5967639359604435, 0.596432592604564, 0.5713205694880518, 0.6593875856132875, 0.5895291851172336, 0.6068802253239203, 0.513728137547886, 0.5576041304353357, 0.6153625534148811, 0.6350597672631761, 0.657036855979119, 0.5626192276719432, 0.6772089831902207, 0.6484655425887396]}, {\"categories\": [\"0\", \"1\", \"2\", \"3\", \"4\", \"5\", \"6\", \"7\", \"8\", \"9\", \"10\", \"11\", \"12\", \"13\", \"14\", \"15\", \"16\", \"17\", \"18\", \"19\", \"20\"], \"mode\": \"lines\", \"name\": \"matthews_correlation_max\", \"stepped\": true, \"type\": \"scatter\", \"data\": [0.5489062305154261, 0.5873460381369527, 0.6070528584296127, 0.6070528584296127, 0.6260516350695697, 0.6260516350695697, 0.6260516350695697, 0.6260516350695697, 0.6260516350695697, 0.6260516350695697, 0.6593875856132875, 0.6593875856132875, 0.6593875856132875, 0.6593875856132875, 0.6593875856132875, 0.6593875856132875, 0.6593875856132875, 0.6593875856132875, 0.6593875856132875, 0.6772089831902207, 0.6772089831902207]}]}, \"metricName\": null, \"primaryMetricName\": \"accuracy\", \"showLegend\": false}, \"run_metrics\": [{\"name\": \"accuracy\", \"run_id\": \"AutoML_9290b020-d984-44ed-b8ff-4d934b6b7c26\", \"categories\": [0], \"series\": [{\"data\": [0.8594276094276094]}]}, {\"name\": \"balanced_accuracy\", \"run_id\": \"AutoML_9290b020-d984-44ed-b8ff-4d934b6b7c26\", \"categories\": [0], \"series\": [{\"data\": [0.8277252622080208]}]}, {\"name\": \"precision_score_weighted\", \"run_id\": \"AutoML_9290b020-d984-44ed-b8ff-4d934b6b7c26\", \"categories\": [0], \"series\": [{\"data\": [0.8630902990767622]}]}, {\"name\": \"recall_score_micro\", \"run_id\": \"AutoML_9290b020-d984-44ed-b8ff-4d934b6b7c26\", \"categories\": [0], \"series\": [{\"data\": [0.8594276094276094]}]}, {\"name\": \"average_precision_score_macro\", \"run_id\": \"AutoML_9290b020-d984-44ed-b8ff-4d934b6b7c26\", \"categories\": [0], \"series\": [{\"data\": [0.8847261695862234]}]}, {\"name\": \"matthews_correlation\", \"run_id\": \"AutoML_9290b020-d984-44ed-b8ff-4d934b6b7c26\", \"categories\": [0], \"series\": [{\"data\": [0.6772089831902207]}]}, {\"name\": \"f1_score_micro\", \"run_id\": \"AutoML_9290b020-d984-44ed-b8ff-4d934b6b7c26\", \"categories\": [0], \"series\": [{\"data\": [0.8594276094276094]}]}, {\"name\": \"precision_score_macro\", \"run_id\": \"AutoML_9290b020-d984-44ed-b8ff-4d934b6b7c26\", \"categories\": [0], \"series\": [{\"data\": [0.850711944497235]}]}, {\"name\": \"AUC_weighted\", \"run_id\": \"AutoML_9290b020-d984-44ed-b8ff-4d934b6b7c26\", \"categories\": [0], \"series\": [{\"data\": [0.9025671484292174]}]}, {\"name\": \"precision_score_micro\", \"run_id\": \"AutoML_9290b020-d984-44ed-b8ff-4d934b6b7c26\", \"categories\": [0], \"series\": [{\"data\": [0.8594276094276094]}]}, {\"name\": \"norm_macro_recall\", \"run_id\": \"AutoML_9290b020-d984-44ed-b8ff-4d934b6b7c26\", \"categories\": [0], \"series\": [{\"data\": [0.6554505244160417]}]}, {\"name\": \"weighted_accuracy\", \"run_id\": \"AutoML_9290b020-d984-44ed-b8ff-4d934b6b7c26\", \"categories\": [0], \"series\": [{\"data\": [0.8845257820783002]}]}, {\"name\": \"AUC_micro\", \"run_id\": \"AutoML_9290b020-d984-44ed-b8ff-4d934b6b7c26\", \"categories\": [0], \"series\": [{\"data\": [0.9102984967520321]}]}, {\"name\": \"log_loss\", \"run_id\": \"AutoML_9290b020-d984-44ed-b8ff-4d934b6b7c26\", \"categories\": [0], \"series\": [{\"data\": [0.3956809484012051]}]}, {\"name\": \"average_precision_score_micro\", \"run_id\": \"AutoML_9290b020-d984-44ed-b8ff-4d934b6b7c26\", \"categories\": [0], \"series\": [{\"data\": [0.910336281765144]}]}, {\"name\": \"AUC_macro\", \"run_id\": \"AutoML_9290b020-d984-44ed-b8ff-4d934b6b7c26\", \"categories\": [0], \"series\": [{\"data\": [0.9025671484292174]}]}, {\"name\": \"recall_score_macro\", \"run_id\": \"AutoML_9290b020-d984-44ed-b8ff-4d934b6b7c26\", \"categories\": [0], \"series\": [{\"data\": [0.8277252622080208]}]}, {\"name\": \"average_precision_score_weighted\", \"run_id\": \"AutoML_9290b020-d984-44ed-b8ff-4d934b6b7c26\", \"categories\": [0], \"series\": [{\"data\": [0.9089176331286836]}]}, {\"name\": \"f1_score_macro\", \"run_id\": \"AutoML_9290b020-d984-44ed-b8ff-4d934b6b7c26\", \"categories\": [0], \"series\": [{\"data\": [0.8334192378974817]}]}, {\"name\": \"recall_score_weighted\", \"run_id\": \"AutoML_9290b020-d984-44ed-b8ff-4d934b6b7c26\", \"categories\": [0], \"series\": [{\"data\": [0.8594276094276094]}]}, {\"name\": \"f1_score_weighted\", \"run_id\": \"AutoML_9290b020-d984-44ed-b8ff-4d934b6b7c26\", \"categories\": [0], \"series\": [{\"data\": [0.8563940365375847]}]}], \"run_logs\": \"\\nRun is completed.\", \"graph\": {}, \"widget_settings\": {\"childWidgetDisplay\": \"popup\", \"send_telemetry\": false, \"log_level\": \"INFO\", \"sdk_version\": \"1.19.0\"}, \"loading\": false}"
     },
     "metadata": {},
     "output_type": "display_data"
    },
    {
     "data": {
      "text/plain": [
       "{'runId': 'AutoML_9290b020-d984-44ed-b8ff-4d934b6b7c26',\n",
       " 'target': 'local',\n",
       " 'status': 'Completed',\n",
       " 'startTimeUtc': '2021-01-03T11:18:51.37378Z',\n",
       " 'endTimeUtc': '2021-01-03T11:37:51.70248Z',\n",
       " 'properties': {'num_iterations': '30',\n",
       "  'training_type': 'TrainFull',\n",
       "  'acquisition_function': 'EI',\n",
       "  'primary_metric': 'accuracy',\n",
       "  'train_split': '0',\n",
       "  'acquisition_parameter': '0',\n",
       "  'num_cross_validation': '3',\n",
       "  'target': 'local',\n",
       "  'AMLSettingsJsonString': '{\"path\":null,\"name\":\"automl-experiment\",\"subscription_id\":\"77aa4fe1-b94d-42b7-8b39-c4c15eb26acb\",\"resource_group\":\"res-classic-2\",\"workspace_name\":\"udacity-ml\",\"region\":\"eastasia\",\"compute_target\":\"local\",\"spark_service\":null,\"azure_service\":\"local\",\"many_models\":false,\"pipeline_fetch_max_batch_size\":1,\"iterations\":30,\"primary_metric\":\"accuracy\",\"task_type\":\"classification\",\"data_script\":null,\"validation_size\":0.0,\"n_cross_validations\":3,\"y_min\":null,\"y_max\":null,\"num_classes\":2,\"featurization\":\"auto\",\"_ignore_package_version_incompatibilities\":false,\"is_timeseries\":false,\"max_cores_per_iteration\":-1,\"max_concurrent_iterations\":8,\"iteration_timeout_minutes\":null,\"mem_in_mb\":null,\"enforce_time_on_windows\":true,\"experiment_timeout_minutes\":15,\"experiment_exit_score\":null,\"whitelist_models\":null,\"blacklist_algos\":[\"TensorFlowLinearClassifier\",\"TensorFlowDNN\"],\"supported_models\":[\"XGBoostClassifier\",\"SVM\",\"AveragedPerceptronClassifier\",\"MultinomialNaiveBayes\",\"TensorFlowLinearClassifier\",\"KNN\",\"LogisticRegression\",\"GradientBoosting\",\"LightGBM\",\"LinearSVM\",\"DecisionTree\",\"SGD\",\"RandomForest\",\"ExtremeRandomTrees\",\"TensorFlowDNN\",\"BernoulliNaiveBayes\"],\"auto_blacklist\":true,\"blacklist_samples_reached\":false,\"exclude_nan_labels\":true,\"verbosity\":20,\"_debug_log\":\"automl.log\",\"show_warnings\":false,\"model_explainability\":true,\"service_url\":null,\"sdk_url\":null,\"sdk_packages\":null,\"enable_onnx_compatible_models\":false,\"enable_split_onnx_featurizer_estimator_models\":false,\"vm_type\":null,\"telemetry_verbosity\":20,\"send_telemetry\":true,\"enable_dnn\":false,\"scenario\":\"SDK-1.13.0\",\"environment_label\":null,\"force_text_dnn\":false,\"enable_feature_sweeping\":true,\"enable_early_stopping\":false,\"early_stopping_n_iters\":10,\"metrics\":null,\"enable_ensembling\":true,\"enable_stack_ensembling\":true,\"ensemble_iterations\":15,\"enable_tf\":false,\"enable_subsampling\":false,\"subsample_seed\":null,\"enable_nimbusml\":false,\"enable_streaming\":false,\"force_streaming\":false,\"track_child_runs\":true,\"allowed_private_models\":[],\"label_column_name\":\"DEATH_EVENT\",\"weight_column_name\":null,\"cv_split_column_names\":null,\"enable_local_managed\":false,\"_local_managed_run_id\":null,\"cost_mode\":1,\"lag_length\":0,\"metric_operation\":\"maximize\",\"preprocess\":true}',\n",
       "  'DataPrepJsonString': '{\\\\\"training_data\\\\\": \\\\\"{\\\\\\\\\\\\\"blocks\\\\\\\\\\\\\": [{\\\\\\\\\\\\\"id\\\\\\\\\\\\\": \\\\\\\\\\\\\"55b3df56-48c3-438c-9975-95e8c7d84835\\\\\\\\\\\\\", \\\\\\\\\\\\\"type\\\\\\\\\\\\\": \\\\\\\\\\\\\"Microsoft.DPrep.GetDatastoreFilesBlock\\\\\\\\\\\\\", \\\\\\\\\\\\\"arguments\\\\\\\\\\\\\": {\\\\\\\\\\\\\"datastores\\\\\\\\\\\\\": [{\\\\\\\\\\\\\"datastoreName\\\\\\\\\\\\\": \\\\\\\\\\\\\"workspaceblobstore\\\\\\\\\\\\\", \\\\\\\\\\\\\"path\\\\\\\\\\\\\": \\\\\\\\\\\\\"UI/01-02-2021_103901_UTC/heart_failure_clinical_records_dataset.csv\\\\\\\\\\\\\", \\\\\\\\\\\\\"resourceGroup\\\\\\\\\\\\\": \\\\\\\\\\\\\"res-classic-2\\\\\\\\\\\\\", \\\\\\\\\\\\\"subscription\\\\\\\\\\\\\": \\\\\\\\\\\\\"77aa4fe1-b94d-42b7-8b39-c4c15eb26acb\\\\\\\\\\\\\", \\\\\\\\\\\\\"workspaceName\\\\\\\\\\\\\": \\\\\\\\\\\\\"udacity-ml\\\\\\\\\\\\\"}]}, \\\\\\\\\\\\\"localData\\\\\\\\\\\\\": {}, \\\\\\\\\\\\\"isEnabled\\\\\\\\\\\\\": true, \\\\\\\\\\\\\"name\\\\\\\\\\\\\": null, \\\\\\\\\\\\\"annotation\\\\\\\\\\\\\": null}, {\\\\\\\\\\\\\"id\\\\\\\\\\\\\": \\\\\\\\\\\\\"4a171630-8604-4ce9-afc7-365ed48cc7df\\\\\\\\\\\\\", \\\\\\\\\\\\\"type\\\\\\\\\\\\\": \\\\\\\\\\\\\"Microsoft.DPrep.ParseDelimitedBlock\\\\\\\\\\\\\", \\\\\\\\\\\\\"arguments\\\\\\\\\\\\\": {\\\\\\\\\\\\\"columnHeadersMode\\\\\\\\\\\\\": 1, \\\\\\\\\\\\\"fileEncoding\\\\\\\\\\\\\": 0, \\\\\\\\\\\\\"handleQuotedLineBreaks\\\\\\\\\\\\\": false, \\\\\\\\\\\\\"preview\\\\\\\\\\\\\": false, \\\\\\\\\\\\\"separator\\\\\\\\\\\\\": \\\\\\\\\\\\\",\\\\\\\\\\\\\", \\\\\\\\\\\\\"skipRows\\\\\\\\\\\\\": 0, \\\\\\\\\\\\\"skipRowsMode\\\\\\\\\\\\\": 0}, \\\\\\\\\\\\\"localData\\\\\\\\\\\\\": {}, \\\\\\\\\\\\\"isEnabled\\\\\\\\\\\\\": true, \\\\\\\\\\\\\"name\\\\\\\\\\\\\": null, \\\\\\\\\\\\\"annotation\\\\\\\\\\\\\": null}, {\\\\\\\\\\\\\"id\\\\\\\\\\\\\": \\\\\\\\\\\\\"6c8d1d22-9fd5-4814-8b31-3613bc10ea09\\\\\\\\\\\\\", \\\\\\\\\\\\\"type\\\\\\\\\\\\\": \\\\\\\\\\\\\"Microsoft.DPrep.DropColumnsBlock\\\\\\\\\\\\\", \\\\\\\\\\\\\"arguments\\\\\\\\\\\\\": {\\\\\\\\\\\\\"columns\\\\\\\\\\\\\": {\\\\\\\\\\\\\"type\\\\\\\\\\\\\": 0, \\\\\\\\\\\\\"details\\\\\\\\\\\\\": {\\\\\\\\\\\\\"selectedColumns\\\\\\\\\\\\\": [\\\\\\\\\\\\\"Path\\\\\\\\\\\\\"]}}}, \\\\\\\\\\\\\"localData\\\\\\\\\\\\\": {}, \\\\\\\\\\\\\"isEnabled\\\\\\\\\\\\\": true, \\\\\\\\\\\\\"name\\\\\\\\\\\\\": null, \\\\\\\\\\\\\"annotation\\\\\\\\\\\\\": null}, {\\\\\\\\\\\\\"id\\\\\\\\\\\\\": \\\\\\\\\\\\\"16a198c5-2cc4-4803-9b71-c82b990d1276\\\\\\\\\\\\\", \\\\\\\\\\\\\"type\\\\\\\\\\\\\": \\\\\\\\\\\\\"Microsoft.DPrep.SetColumnTypesBlock\\\\\\\\\\\\\", \\\\\\\\\\\\\"arguments\\\\\\\\\\\\\": {\\\\\\\\\\\\\"columnConversion\\\\\\\\\\\\\": [{\\\\\\\\\\\\\"column\\\\\\\\\\\\\": {\\\\\\\\\\\\\"type\\\\\\\\\\\\\": 2, \\\\\\\\\\\\\"details\\\\\\\\\\\\\": {\\\\\\\\\\\\\"selectedColumn\\\\\\\\\\\\\": \\\\\\\\\\\\\"Path\\\\\\\\\\\\\"}}, \\\\\\\\\\\\\"typeProperty\\\\\\\\\\\\\": 0}, {\\\\\\\\\\\\\"column\\\\\\\\\\\\\": {\\\\\\\\\\\\\"type\\\\\\\\\\\\\": 2, \\\\\\\\\\\\\"details\\\\\\\\\\\\\": {\\\\\\\\\\\\\"selectedColumn\\\\\\\\\\\\\": \\\\\\\\\\\\\"age\\\\\\\\\\\\\"}}, \\\\\\\\\\\\\"typeProperty\\\\\\\\\\\\\": 3}, {\\\\\\\\\\\\\"column\\\\\\\\\\\\\": {\\\\\\\\\\\\\"type\\\\\\\\\\\\\": 2, \\\\\\\\\\\\\"details\\\\\\\\\\\\\": {\\\\\\\\\\\\\"selectedColumn\\\\\\\\\\\\\": \\\\\\\\\\\\\"anaemia\\\\\\\\\\\\\"}}, \\\\\\\\\\\\\"typeProperty\\\\\\\\\\\\\": 2}, {\\\\\\\\\\\\\"column\\\\\\\\\\\\\": {\\\\\\\\\\\\\"type\\\\\\\\\\\\\": 2, \\\\\\\\\\\\\"details\\\\\\\\\\\\\": {\\\\\\\\\\\\\"selectedColumn\\\\\\\\\\\\\": \\\\\\\\\\\\\"creatinine_phosphokinase\\\\\\\\\\\\\"}}, \\\\\\\\\\\\\"typeProperty\\\\\\\\\\\\\": 2}, {\\\\\\\\\\\\\"column\\\\\\\\\\\\\": {\\\\\\\\\\\\\"type\\\\\\\\\\\\\": 2, \\\\\\\\\\\\\"details\\\\\\\\\\\\\": {\\\\\\\\\\\\\"selectedColumn\\\\\\\\\\\\\": \\\\\\\\\\\\\"diabetes\\\\\\\\\\\\\"}}, \\\\\\\\\\\\\"typeProperty\\\\\\\\\\\\\": 2}, {\\\\\\\\\\\\\"column\\\\\\\\\\\\\": {\\\\\\\\\\\\\"type\\\\\\\\\\\\\": 2, \\\\\\\\\\\\\"details\\\\\\\\\\\\\": {\\\\\\\\\\\\\"selectedColumn\\\\\\\\\\\\\": \\\\\\\\\\\\\"ejection_fraction\\\\\\\\\\\\\"}}, \\\\\\\\\\\\\"typeProperty\\\\\\\\\\\\\": 2}, {\\\\\\\\\\\\\"column\\\\\\\\\\\\\": {\\\\\\\\\\\\\"type\\\\\\\\\\\\\": 2, \\\\\\\\\\\\\"details\\\\\\\\\\\\\": {\\\\\\\\\\\\\"selectedColumn\\\\\\\\\\\\\": \\\\\\\\\\\\\"high_blood_pressure\\\\\\\\\\\\\"}}, \\\\\\\\\\\\\"typeProperty\\\\\\\\\\\\\": 2}, {\\\\\\\\\\\\\"column\\\\\\\\\\\\\": {\\\\\\\\\\\\\"type\\\\\\\\\\\\\": 2, \\\\\\\\\\\\\"details\\\\\\\\\\\\\": {\\\\\\\\\\\\\"selectedColumn\\\\\\\\\\\\\": \\\\\\\\\\\\\"platelets\\\\\\\\\\\\\"}}, \\\\\\\\\\\\\"typeProperty\\\\\\\\\\\\\": 3}, {\\\\\\\\\\\\\"column\\\\\\\\\\\\\": {\\\\\\\\\\\\\"type\\\\\\\\\\\\\": 2, \\\\\\\\\\\\\"details\\\\\\\\\\\\\": {\\\\\\\\\\\\\"selectedColumn\\\\\\\\\\\\\": \\\\\\\\\\\\\"serum_creatinine\\\\\\\\\\\\\"}}, \\\\\\\\\\\\\"typeProperty\\\\\\\\\\\\\": 3}, {\\\\\\\\\\\\\"column\\\\\\\\\\\\\": {\\\\\\\\\\\\\"type\\\\\\\\\\\\\": 2, \\\\\\\\\\\\\"details\\\\\\\\\\\\\": {\\\\\\\\\\\\\"selectedColumn\\\\\\\\\\\\\": \\\\\\\\\\\\\"serum_sodium\\\\\\\\\\\\\"}}, \\\\\\\\\\\\\"typeProperty\\\\\\\\\\\\\": 2}, {\\\\\\\\\\\\\"column\\\\\\\\\\\\\": {\\\\\\\\\\\\\"type\\\\\\\\\\\\\": 2, \\\\\\\\\\\\\"details\\\\\\\\\\\\\": {\\\\\\\\\\\\\"selectedColumn\\\\\\\\\\\\\": \\\\\\\\\\\\\"sex\\\\\\\\\\\\\"}}, \\\\\\\\\\\\\"typeProperty\\\\\\\\\\\\\": 2}, {\\\\\\\\\\\\\"column\\\\\\\\\\\\\": {\\\\\\\\\\\\\"type\\\\\\\\\\\\\": 2, \\\\\\\\\\\\\"details\\\\\\\\\\\\\": {\\\\\\\\\\\\\"selectedColumn\\\\\\\\\\\\\": \\\\\\\\\\\\\"smoking\\\\\\\\\\\\\"}}, \\\\\\\\\\\\\"typeProperty\\\\\\\\\\\\\": 2}, {\\\\\\\\\\\\\"column\\\\\\\\\\\\\": {\\\\\\\\\\\\\"type\\\\\\\\\\\\\": 2, \\\\\\\\\\\\\"details\\\\\\\\\\\\\": {\\\\\\\\\\\\\"selectedColumn\\\\\\\\\\\\\": \\\\\\\\\\\\\"time\\\\\\\\\\\\\"}}, \\\\\\\\\\\\\"typeProperty\\\\\\\\\\\\\": 2}, {\\\\\\\\\\\\\"column\\\\\\\\\\\\\": {\\\\\\\\\\\\\"type\\\\\\\\\\\\\": 2, \\\\\\\\\\\\\"details\\\\\\\\\\\\\": {\\\\\\\\\\\\\"selectedColumn\\\\\\\\\\\\\": \\\\\\\\\\\\\"DEATH_EVENT\\\\\\\\\\\\\"}}, \\\\\\\\\\\\\"typeProperty\\\\\\\\\\\\\": 2}]}, \\\\\\\\\\\\\"localData\\\\\\\\\\\\\": {}, \\\\\\\\\\\\\"isEnabled\\\\\\\\\\\\\": true, \\\\\\\\\\\\\"name\\\\\\\\\\\\\": null, \\\\\\\\\\\\\"annotation\\\\\\\\\\\\\": null}], \\\\\\\\\\\\\"inspectors\\\\\\\\\\\\\": [], \\\\\\\\\\\\\"meta\\\\\\\\\\\\\": {\\\\\\\\\\\\\"savedDatasetId\\\\\\\\\\\\\": \\\\\\\\\\\\\"34c9e1a9-b66d-4383-8bfe-bf5fec4a95da\\\\\\\\\\\\\", \\\\\\\\\\\\\"datasetType\\\\\\\\\\\\\": \\\\\\\\\\\\\"tabular\\\\\\\\\\\\\", \\\\\\\\\\\\\"subscriptionId\\\\\\\\\\\\\": \\\\\\\\\\\\\"77aa4fe1-b94d-42b7-8b39-c4c15eb26acb\\\\\\\\\\\\\", \\\\\\\\\\\\\"workspaceId\\\\\\\\\\\\\": \\\\\\\\\\\\\"96aa4fb1-b1db-4cdc-9207-5775fcc82f8a\\\\\\\\\\\\\", \\\\\\\\\\\\\"workspaceLocation\\\\\\\\\\\\\": \\\\\\\\\\\\\"eastasia\\\\\\\\\\\\\"}}\\\\\", \\\\\"activities\\\\\": 0}',\n",
       "  'EnableSubsampling': 'False',\n",
       "  'runTemplate': 'AutoML',\n",
       "  'azureml.runsource': 'automl',\n",
       "  'display_task_type': 'classification',\n",
       "  'dependencies_versions': '{\"azureml-widgets\": \"1.19.0\", \"azureml-train-restclients-hyperdrive\": \"1.19.0\", \"azureml-train-core\": \"1.19.0\", \"azureml-train-automl\": \"1.19.0\", \"azureml-train-automl-runtime\": \"1.19.0\", \"azureml-train-automl-client\": \"1.19.0\", \"azureml-telemetry\": \"1.19.0\", \"azureml-pipeline-steps\": \"1.19.0\", \"azureml-pipeline-core\": \"1.19.0\", \"azureml-model-management-sdk\": \"1.0.1b6.post1\", \"azureml-interpret\": \"1.19.0\", \"azureml-defaults\": \"1.19.0\", \"azureml-dataset-runtime\": \"1.19.0.post1\", \"azureml-dataprep\": \"2.6.1\", \"azureml-dataprep-rslex\": \"1.4.0\", \"azureml-dataprep-native\": \"26.0.0\", \"azureml-core\": \"1.19.0\", \"azureml-automl-runtime\": \"1.19.0\", \"azureml-automl-core\": \"1.19.0\"}',\n",
       "  '_aml_system_scenario_identification': 'Local.Parent',\n",
       "  'ClientSdkVersion': '1.19.0',\n",
       "  'ClientType': 'SDK',\n",
       "  'environment_cpu_name': 'AzureML-AutoML',\n",
       "  'environment_cpu_label': 'prod',\n",
       "  'environment_gpu_name': 'AzureML-AutoML-GPU',\n",
       "  'environment_gpu_label': 'prod',\n",
       "  'root_attribution': 'automl',\n",
       "  'attribution': 'AutoML',\n",
       "  'Orchestrator': 'AutoML',\n",
       "  '_azureml.ComputeTargetType': 'local',\n",
       "  'ProblemInfoJsonString': '{\"dataset_num_categorical\": 0, \"is_sparse\": false, \"subsampling\": false, \"dataset_classes\": 2, \"dataset_features\": 12, \"dataset_samples\": 299, \"single_frequency_class_detected\": false}',\n",
       "  'feature_skus': 'automatedml_sdk_guardrails'},\n",
       " 'inputDatasets': [{'dataset': {'id': '34c9e1a9-b66d-4383-8bfe-bf5fec4a95da'}, 'consumptionDetails': {'type': 'RunInput', 'inputName': 'training_data', 'mechanism': 'Direct'}}],\n",
       " 'outputDatasets': [],\n",
       " 'logFiles': {}}"
      ]
     },
     "execution_count": 6,
     "metadata": {},
     "output_type": "execute_result"
    }
   ],
   "source": [
    "# TODO: Submit your experiment\n",
    "remote_run = experiment.submit(automl_config)\n",
    "RunDetails(remote_run).show()\n",
    "remote_run.wait_for_completion(show_output=False)"
   ]
  },
  {
   "cell_type": "markdown",
   "metadata": {},
   "source": [
    "## Best Model\n",
    "\n",
    "TODO: In the cell below, get the best model from the automl experiments and display all the properties of the model.\n",
    "\n"
   ]
  },
  {
   "cell_type": "code",
   "execution_count": 7,
   "metadata": {
    "gather": {
     "logged": 1601799389739
    },
    "jupyter": {
     "outputs_hidden": false,
     "source_hidden": false
    },
    "nteract": {
     "transient": {
      "deleting": false
     }
    }
   },
   "outputs": [
    {
     "name": "stdout",
     "output_type": "stream",
     "text": [
      "PreFittedSoftVotingClassifier(classification_labels=None,\n",
      "                              estimators=[('10',\n",
      "                                           Pipeline(memory=None,\n",
      "                                                    steps=[('robustscaler',\n",
      "                                                            RobustScaler(copy=True,\n",
      "                                                                         quantile_range=[10,\n",
      "                                                                                         90],\n",
      "                                                                         with_centering=True,\n",
      "                                                                         with_scaling=True)),\n",
      "                                                           ('randomforestclassifier',\n",
      "                                                            RandomForestClassifier(bootstrap=True,\n",
      "                                                                                   ccp_alpha=0.0,\n",
      "                                                                                   class_weight=None,\n",
      "                                                                                   criterion='entropy',\n",
      "                                                                                   max_depth=None,\n",
      "                                                                                   max_features=0...\n",
      "                                                                                 max_leaf_nodes=None,\n",
      "                                                                                 max_samples=None,\n",
      "                                                                                 min_impurity_decrease=0.0,\n",
      "                                                                                 min_impurity_split=None,\n",
      "                                                                                 min_samples_leaf=0.035789473684210524,\n",
      "                                                                                 min_samples_split=0.15052631578947367,\n",
      "                                                                                 min_weight_fraction_leaf=0.0,\n",
      "                                                                                 n_estimators=50,\n",
      "                                                                                 n_jobs=-1,\n",
      "                                                                                 oob_score=False,\n",
      "                                                                                 random_state=None,\n",
      "                                                                                 verbose=0,\n",
      "                                                                                 warm_start=False))],\n",
      "                                                    verbose=False))],\n",
      "                              flatten_transform=None,\n",
      "                              weights=[0.25, 0.125, 0.25, 0.25, 0.125])\n"
     ]
    }
   ],
   "source": [
    "# Retrieve and save your best automl model.\n",
    "best_automl_run, best_model = remote_run.get_output()\n",
    "print(best_model._final_estimator)"
   ]
  },
  {
   "cell_type": "markdown",
   "metadata": {},
   "source": [
    "## Model Deployment\n",
    "\n",
    "Remember you have to deploy only one of the two models you trained.. Perform the steps in the rest of this notebook only if you wish to deploy this model.\n",
    "\n",
    "TODO: In the cell below, register the model, create an inference config and deploy the model as a web service."
   ]
  },
  {
   "cell_type": "code",
   "execution_count": 13,
   "metadata": {
    "gather": {
     "logged": 1601799528212
    },
    "jupyter": {
     "outputs_hidden": false,
     "source_hidden": false
    },
    "nteract": {
     "transient": {
      "deleting": false
     }
    }
   },
   "outputs": [
    {
     "data": {
      "text/plain": [
       "'outputs'"
      ]
     },
     "execution_count": 13,
     "metadata": {},
     "output_type": "execute_result"
    }
   ],
   "source": [
    "model = best_automl_run.register_model(model_name = \"best_run_automl.pkl\", model_path = './outputs/')\n",
    "model.download() # downlaod the model artifacts with the conda environment YAML file"
   ]
  },
  {
   "cell_type": "code",
   "execution_count": 14,
   "metadata": {
    "gather": {
     "logged": 1601800682869
    },
    "jupyter": {
     "outputs_hidden": false,
     "source_hidden": false
    },
    "nteract": {
     "transient": {
      "deleting": false
     }
    }
   },
   "outputs": [
    {
     "name": "stdout",
     "output_type": "stream",
     "text": [
      "Tips: You can try get_logs(): https://aka.ms/debugimage#dockerlog or local deployment: https://aka.ms/debugimage#debug-locally to debug if deployment takes longer than 10 minutes.\n",
      "Running.......................................\n",
      "Succeeded\n",
      "ACI service creation operation finished, operation \"Succeeded\"\n"
     ]
    }
   ],
   "source": [
    "aci_config = AciWebservice.deploy_configuration(cpu_cores=1, memory_gb=1)\n",
    "environment = Environment.from_conda_specification('my-automl-environment', './outputs/conda_env_v_1_0_0.yml')\n",
    "inference_config = InferenceConfig(entry_script='score.py', environment=environment)\n",
    "\n",
    "service = model.deploy(\n",
    "    workspace=ws,\n",
    "    name=\"automl-deploy-1\",\n",
    "    models=[model],\n",
    "    inference_config=inference_config,\n",
    "    deployment_config=aci_config,\n",
    "    overwrite=True\n",
    ")\n",
    "service.wait_for_deployment(show_output=True)"
   ]
  },
  {
   "cell_type": "code",
   "execution_count": 15,
   "metadata": {
    "gather": {
     "logged": 1601800686782
    },
    "jupyter": {
     "outputs_hidden": false,
     "source_hidden": false
    },
    "nteract": {
     "transient": {
      "deleting": false
     }
    }
   },
   "outputs": [],
   "source": [
    "service.update(enable_app_insights=True)"
   ]
  },
  {
   "cell_type": "markdown",
   "metadata": {
    "collapsed": true,
    "gather": {
     "logged": 1598431657736
    },
    "jupyter": {
     "outputs_hidden": false,
     "source_hidden": false
    },
    "nteract": {
     "transient": {
      "deleting": false
     }
    }
   },
   "source": [
    "TODO: In the cell below, send a request to the web service you deployed to test it."
   ]
  },
  {
   "cell_type": "code",
   "execution_count": 17,
   "metadata": {
    "gather": {
     "logged": 1601801110436
    },
    "jupyter": {
     "outputs_hidden": false,
     "source_hidden": false
    },
    "nteract": {
     "transient": {
      "deleting": false
     }
    }
   },
   "outputs": [
    {
     "name": "stdout",
     "output_type": "stream",
     "text": [
      "{'age': 75.0, 'anaemia': 0.0, 'creatinine_phosphokinase': 582.0, 'diabetes': 0.0, 'ejection_fraction': 20.0, 'high_blood_pressure': 1.0, 'platelets': 265000.0, 'serum_creatinine': 1.9, 'serum_sodium': 130.0, 'sex': 1.0, 'smoking': 0.0, 'time': 4.0}\n"
     ]
    }
   ],
   "source": [
    "ROW_ID = 0\n",
    "x = heart_failure.iloc[ROW_ID, :-1].to_dict()\n",
    "y = heart_failure.iloc[ROW_ID, -1]\n",
    "print(x)"
   ]
  },
  {
   "cell_type": "code",
   "execution_count": 18,
   "metadata": {
    "gather": {
     "logged": 1601801113727
    },
    "jupyter": {
     "outputs_hidden": false,
     "source_hidden": false
    },
    "nteract": {
     "transient": {
      "deleting": false
     }
    }
   },
   "outputs": [
    {
     "name": "stdout",
     "output_type": "stream",
     "text": [
      "Predicted: [1]\n",
      "Expected: 1\n"
     ]
    }
   ],
   "source": [
    "import json\n",
    "import numpy as np\n",
    "input_payload = json.dumps({\n",
    "    'data': x\n",
    "})\n",
    "\n",
    "output = service.run(input_payload)\n",
    "print(f\"Predicted: {output}\\nExpected: {y}\")"
   ]
  },
  {
   "cell_type": "markdown",
   "metadata": {
    "collapsed": true,
    "gather": {
     "logged": 1598432765711
    },
    "jupyter": {
     "outputs_hidden": false,
     "source_hidden": false
    },
    "nteract": {
     "transient": {
      "deleting": false
     }
    }
   },
   "source": [
    "TODO: In the cell below, print the logs of the web service and delete the service"
   ]
  },
  {
   "cell_type": "code",
   "execution_count": 20,
   "metadata": {
    "gather": {
     "logged": 1601801118581
    },
    "jupyter": {
     "outputs_hidden": false,
     "source_hidden": false
    },
    "nteract": {
     "transient": {
      "deleting": false
     }
    }
   },
   "outputs": [
    {
     "name": "stdout",
     "output_type": "stream",
     "text": [
      "2021-01-03T12:02:53,298999600+00:00 - rsyslog/run \n",
      "2021-01-03T12:02:53,297665900+00:00 - gunicorn/run \n",
      "2021-01-03T12:02:53,307311300+00:00 - nginx/run \n",
      "2021-01-03T12:02:53,296750500+00:00 - iot-server/run \n",
      "/usr/sbin/nginx: /azureml-envs/azureml_9c539d20199ae6be65c41c0382029684/lib/libcrypto.so.1.0.0: no version information available (required by /usr/sbin/nginx)\n",
      "/usr/sbin/nginx: /azureml-envs/azureml_9c539d20199ae6be65c41c0382029684/lib/libcrypto.so.1.0.0: no version information available (required by /usr/sbin/nginx)\n",
      "/usr/sbin/nginx: /azureml-envs/azureml_9c539d20199ae6be65c41c0382029684/lib/libssl.so.1.0.0: no version information available (required by /usr/sbin/nginx)\n",
      "/usr/sbin/nginx: /azureml-envs/azureml_9c539d20199ae6be65c41c0382029684/lib/libssl.so.1.0.0: no version information available (required by /usr/sbin/nginx)\n",
      "/usr/sbin/nginx: /azureml-envs/azureml_9c539d20199ae6be65c41c0382029684/lib/libssl.so.1.0.0: no version information available (required by /usr/sbin/nginx)\n",
      "rsyslogd: /azureml-envs/azureml_9c539d20199ae6be65c41c0382029684/lib/libuuid.so.1: no version information available (required by rsyslogd)\n",
      "EdgeHubConnectionString and IOTEDGE_IOTHUBHOSTNAME are not set. Exiting...\n",
      "2021-01-03T12:02:55,335992000+00:00 - iot-server/finish 1 0\n",
      "2021-01-03T12:02:55,349398200+00:00 - Exit code 1 is normal. Not restarting iot-server.\n",
      "Starting gunicorn 19.9.0\n",
      "Listening at: http://127.0.0.1:31311 (70)\n",
      "Using worker: sync\n",
      "worker timeout is set to 300\n",
      "Booting worker with pid: 106\n",
      "SPARK_HOME not set. Skipping PySpark Initialization.\n",
      "Generating new fontManager, this may take some time...\n",
      "Initializing logger\n",
      "2021-01-03 12:03:08,519 | root | INFO | Starting up app insights client\n",
      "Starting up app insights client\n",
      "2021-01-03 12:03:08,520 | root | INFO | Starting up request id generator\n",
      "Starting up request id generator\n",
      "2021-01-03 12:03:08,520 | root | INFO | Starting up app insight hooks\n",
      "Starting up app insight hooks\n",
      "2021-01-03 12:03:08,521 | root | INFO | Invoking user's init function\n",
      "Invoking user's init function\n",
      "/azureml-envs/azureml_9c539d20199ae6be65c41c0382029684/lib/python3.6/site-packages/sklearn/externals/joblib/__init__.py:15: FutureWarning: sklearn.externals.joblib is deprecated in 0.21 and will be removed in 0.23. Please import this functionality directly from joblib, which can be installed with: pip install joblib. If this warning is raised when loading pickled models, you may need to re-serialize those models with scikit-learn 0.21+.\n",
      "  warnings.warn(msg, category=FutureWarning)\n",
      "model initialized12:03:08\n",
      "2021-01-03 12:03:13,671 | root | INFO | Users's init has completed successfully\n",
      "Users's init has completed successfully\n",
      "2021-01-03 12:03:13,677 | root | INFO | Skipping middleware: dbg_model_info as it's not enabled.\n",
      "Skipping middleware: dbg_model_info as it's not enabled.\n",
      "2021-01-03 12:03:13,677 | root | INFO | Skipping middleware: dbg_resource_usage as it's not enabled.\n",
      "Skipping middleware: dbg_resource_usage as it's not enabled.\n",
      "2021-01-03 12:03:13,680 | root | INFO | Scoring timeout is found from os.environ: 60000 ms\n",
      "Scoring timeout is found from os.environ: 60000 ms\n",
      "2021-01-03 12:03:17,404 | root | INFO | Swagger file not present\n",
      "Swagger file not present\n",
      "2021-01-03 12:03:17,405 | root | INFO | 404\n",
      "404\n",
      "127.0.0.1 - - [03/Jan/2021:12:03:17 +0000] \"GET /swagger.json HTTP/1.0\" 404 19 \"-\" \"Go-http-client/1.1\"\n",
      "2021-01-03 12:03:20,045 | root | INFO | Swagger file not present\n",
      "Swagger file not present\n",
      "2021-01-03 12:03:20,046 | root | INFO | 404\n",
      "404\n",
      "127.0.0.1 - - [03/Jan/2021:12:03:20 +0000] \"GET /swagger.json HTTP/1.0\" 404 19 \"-\" \"Go-http-client/1.1\"\n",
      "2021-01-03 12:10:38,480 | root | INFO | Swagger file not present\n",
      "Swagger file not present\n",
      "2021-01-03 12:10:38,480 | root | INFO | 404\n",
      "404\n",
      "127.0.0.1 - - [03/Jan/2021:12:10:38 +0000] \"GET /swagger.json HTTP/1.0\" 404 19 \"-\" \"Go-http-client/1.1\"\n",
      "2021-01-03 12:11:07,414 | root | INFO | Validation Request Content-Type\n",
      "Validation Request Content-Type\n",
      "2021-01-03 12:11:07,415 | root | INFO | \tHost: localhost:5001\n",
      "\tHost: localhost:5001\n",
      "2021-01-03 12:11:07,415 | root | INFO | \tX-Real-Ip: 127.0.0.1\n",
      "\tX-Real-Ip: 127.0.0.1\n",
      "2021-01-03 12:11:07,415 | root | INFO | \tX-Forwarded-For: 127.0.0.1\n",
      "\tX-Forwarded-For: 127.0.0.1\n",
      "2021-01-03 12:11:07,415 | root | INFO | \tX-Forwarded-Proto: http\n",
      "\tX-Forwarded-Proto: http\n",
      "2021-01-03 12:11:07,415 | root | INFO | \tConnection: close\n",
      "\tConnection: close\n",
      "2021-01-03 12:11:07,415 | root | INFO | \tContent-Length: 258\n",
      "\tContent-Length: 258\n",
      "2021-01-03 12:11:07,416 | root | INFO | \tUser-Agent: python-requests/2.25.0\n",
      "\tUser-Agent: python-requests/2.25.0\n",
      "2021-01-03 12:11:07,416 | root | INFO | \tAccept: application/json\n",
      "\tAccept: application/json\n",
      "2021-01-03 12:11:07,416 | root | INFO | \tAccept-Encoding: gzip, deflate\n",
      "\tAccept-Encoding: gzip, deflate\n",
      "2021-01-03 12:11:07,416 | root | INFO | \tContent-Type: application/json\n",
      "\tContent-Type: application/json\n",
      "2021-01-03 12:11:07,416 | root | INFO | \tX-Ms-Request-Id: 26b7eed3-94f6-43af-952e-ee182d0792ab\n",
      "\tX-Ms-Request-Id: 26b7eed3-94f6-43af-952e-ee182d0792ab\n",
      "2021-01-03 12:11:07,417 | root | INFO | Scoring Timer is set to 60.0 seconds\n",
      "Scoring Timer is set to 60.0 seconds\n",
      "{\"input\": {\"data\": {\"age\": 75.0, \"anaemia\": 0.0, \"creatinine_phosphokinase\": 582.0, \"diabetes\": 0.0, \"ejection_fraction\": 20.0, \"high_blood_pressure\": 1.0, \"platelets\": 265000.0, \"serum_creatinine\": 1.9, \"serum_sodium\": 130.0, \"sex\": 1.0, \"smoking\": 0.0, \"time\": 4.0}}, \"output\": [1]}\n",
      "2021-01-03 12:11:08,063 | root | INFO | 200\n",
      "200\n",
      "127.0.0.1 - - [03/Jan/2021:12:11:08 +0000] \"POST /score HTTP/1.0\" 200 3 \"-\" \"python-requests/2.25.0\"\n",
      "\n"
     ]
    }
   ],
   "source": [
    "logs = service.get_logs()\n",
    "print(logs)\n"
   ]
  },
  {
   "cell_type": "code",
   "execution_count": 21,
   "metadata": {},
   "outputs": [],
   "source": [
    "service.delete()"
   ]
  },
  {
   "cell_type": "code",
   "execution_count": null,
   "metadata": {},
   "outputs": [],
   "source": []
  }
 ],
 "metadata": {
  "kernel_info": {
   "name": "python3-azureml"
  },
  "kernelspec": {
   "display_name": "Python (azure_automl)",
   "language": "python",
   "name": "azure_automl"
  },
  "language_info": {
   "codemirror_mode": {
    "name": "ipython",
    "version": 3
   },
   "file_extension": ".py",
   "mimetype": "text/x-python",
   "name": "python",
   "nbconvert_exporter": "python",
   "pygments_lexer": "ipython3",
   "version": "3.6.12"
  },
  "nteract": {
   "version": "nteract-front-end@1.0.0"
  }
 },
 "nbformat": 4,
 "nbformat_minor": 2
}
